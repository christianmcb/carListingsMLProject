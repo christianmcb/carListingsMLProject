{
 "cells": [
  {
   "cell_type": "markdown",
   "id": "a8708f29-4088-4e5b-a614-69f97eec7fcd",
   "metadata": {
    "tags": []
   },
   "source": [
    "# Machine Learning Project\n",
    "\n",
    "Following on from the Principles of Data Science Project in part one, this project will use the information gain to explore and prepare the AutoTrader car listings dataset for the purpose of machine learning models.\n",
    "\n",
    "Initial steps are to load the libraries needed for the purpose of data processing, exploration and machine learning. The libraries used in this project are:\n",
    "\n",
    "**Data Processing**\n",
    "- Numpy\n",
    "- Pandas\n",
    "- Scipy\n",
    "- Math\n",
    "\n",
    "**Data Visualisation**\n",
    "- Matplotlib\n",
    "- Seaborn\n",
    "- PrettyTable\n",
    "\n",
    "**Machine Learning**\n",
    "- SKlearn\n",
    "- Category Encoders\n",
    "- Light GBM\n",
    "- XGBoost\n",
    "- SHAP\n",
    "- PPScore\n"
   ]
  },
  {
   "cell_type": "code",
   "execution_count": null,
   "id": "aa156e16-82ee-454c-b077-52610adf3cd7",
   "metadata": {
    "tags": []
   },
   "outputs": [],
   "source": [
    "# Import data libraries\n",
    "import numpy as np\n",
    "import pandas as pd\n",
    "from scipy import stats\n",
    "import scipy\n",
    "import math\n",
    "\n",
    "# Display float type to 5 decimal places, no scientific format\n",
    "pd.set_option('display.float_format', lambda x: '%.5f' % x)\n",
    "\n",
    "# Visualisation libraries\n",
    "import matplotlib.pyplot as plt\n",
    "import seaborn as sns\n",
    "\n",
    "# Configure plotting backend\n",
    "%matplotlib inline\n",
    "%config InlineBackend.figure_format='retina'\n",
    "sns.set(\n",
    "    rc={ \"figure.figsize\": (12,8) },\n",
    "    style=\"ticks\", context=\"notebook\", font_scale=1.2\n",
    ")\n",
    "sns.color_palette('Blues', as_cmap=True);\n",
    "\n",
    "# Machine Learning libraries\n",
    "from sklearn.compose import ColumnTransformer\n",
    "from sklearn.pipeline import Pipeline\n",
    "from sklearn.impute import SimpleImputer\n",
    "from sklearn.preprocessing import StandardScaler, OneHotEncoder\n",
    "from category_encoders.target_encoder import TargetEncoder\n",
    "\n",
    "from sklearn.linear_model import LinearRegression\n",
    "from sklearn.ensemble import RandomForestRegressor\n",
    "from sklearn.tree import DecisionTreeRegressor\n",
    "from sklearn.linear_model import Ridge\n",
    "from sklearn.svm import SVR\n",
    "import lightgbm as lgb\n",
    "import xgboost as xgb\n",
    "\n",
    "import shap\n",
    "import ppscore as pps\n",
    "\n",
    "from sklearn.metrics import r2_score, mean_absolute_percentage_error, mean_absolute_error, mean_squared_error\n",
    "from sklearn.model_selection import cross_validate, train_test_split\n",
    "from sklearn.dummy import DummyRegressor\n",
    "from sklearn.model_selection import GridSearchCV\n",
    "\n",
    "\n",
    "# import warnings filter\n",
    "from warnings import simplefilter\n",
    "# ignore all future warnings\n",
    "simplefilter(action='ignore', category=FutureWarning)\n",
    "\n",
    "print('Libraries Imported!')"
   ]
  },
  {
   "cell_type": "code",
   "execution_count": null,
   "id": "24d46300-e34d-4c48-91ff-c1e3eea918b8",
   "metadata": {},
   "outputs": [],
   "source": [
    "# Read the data into dataframe, print first few rows.\n",
    "cars = pd.read_csv('adverts.csv', index_col=['public_reference'])\n",
    "cars.head()"
   ]
  },
  {
   "cell_type": "code",
   "execution_count": null,
   "id": "f1a1649c-4d72-4413-bffe-da3cb457ef11",
   "metadata": {
    "tags": []
   },
   "outputs": [],
   "source": [
    "# Drop any duplicate observations from the dataset\n",
    "cars = cars.drop_duplicates()"
   ]
  },
  {
   "cell_type": "markdown",
   "id": "52fb9a20-9e63-4a2f-94db-cd74eeb10109",
   "metadata": {
    "tags": []
   },
   "source": [
    "## Meaning and Type of Features\n",
    "\n",
    "Look at the features in the dataset and evaluate meaning."
   ]
  },
  {
   "cell_type": "code",
   "execution_count": null,
   "id": "fafd9a00-d6da-4229-bf49-07944911735a",
   "metadata": {},
   "outputs": [],
   "source": [
    "# Print the number of rows and columns in the dataset\n",
    "print('The shape of the dataset is: {}'.format(cars.shape))\n",
    "print('')\n",
    "\n",
    "# Get feature information and data types\n",
    "cars.info();"
   ]
  },
  {
   "cell_type": "code",
   "execution_count": null,
   "id": "8a7aa9f0-c183-43cd-a4d5-f5537c7802e9",
   "metadata": {},
   "outputs": [],
   "source": [
    "# Change feature names so they are easier to access\n",
    "cars = cars.rename(columns={\n",
    "    'reg_code':'reg',\n",
    "    'standard_colour':'colour',\n",
    "    'standard_make':'make',\n",
    "    'standard_model':'model',\n",
    "    'vehicle_condition':'condition',\n",
    "    'year_of_registration':'year',\n",
    "    'body_type':'type',\n",
    "    'crossover_car_and_van':'car_van',\n",
    "    'fuel_type':'fuel'})"
   ]
  },
  {
   "cell_type": "code",
   "execution_count": null,
   "id": "5f29f392-0ab2-4eda-b5ef-12334013e982",
   "metadata": {},
   "outputs": [],
   "source": [
    "# Show first five rows from the dataset\n",
    "cars.head()"
   ]
  },
  {
   "cell_type": "markdown",
   "id": "3f14f651-690b-4192-9a83-05fdbc34679b",
   "metadata": {
    "tags": []
   },
   "source": [
    "## Analysis of Distributions - Numeric\n",
    "\n",
    "Visualise distribution of numeric features."
   ]
  },
  {
   "cell_type": "code",
   "execution_count": null,
   "id": "dcffa48f-346f-497d-9547-423ecf6ffc85",
   "metadata": {},
   "outputs": [],
   "source": [
    "features = ['mileage','year','price']"
   ]
  },
  {
   "cell_type": "code",
   "execution_count": null,
   "id": "1ba5e0e4-fa5d-4811-87c8-3fd6598d4ca1",
   "metadata": {},
   "outputs": [],
   "source": [
    "# Summary statistics for numerical features in the dataset.\n",
    "cars[features].describe()"
   ]
  },
  {
   "cell_type": "code",
   "execution_count": null,
   "id": "c061f920-97a0-420b-814f-d7d18f3a1137",
   "metadata": {},
   "outputs": [],
   "source": [
    "# Define function for calculating skewness and kurtosis\n",
    "def get_skew(df, col):\n",
    "    print('{} Skewness {}: '.format(col, df[col].skew()))\n",
    "    print('{} Kurtosis {}: '.format(col, df[col].kurt()))"
   ]
  },
  {
   "cell_type": "code",
   "execution_count": null,
   "id": "a6769489-75de-4aea-a6a3-a1dd6fa76b03",
   "metadata": {},
   "outputs": [],
   "source": [
    "# Create figure for subplots\n",
    "fig, ax = plt.subplots(2,2, figsize=(12,8), constrained_layout=True)\n",
    "\n",
    "# View boxplot distribution for mileage\n",
    "sns.boxplot(x='mileage', data=cars, ax=ax[0,0]);\n",
    "ax[0,0].set_title('Box Plot Distribution of Mileage (A)');\n",
    "\n",
    "# View histplot distribution for mileage\n",
    "sns.boxplot(x='mileage', data=cars, ax=ax[0,1], showfliers=False);\n",
    "ax[0,1].set_title('Box Plot Distribution of Mileage without Outliers (B)');\n",
    "\n",
    "\n",
    "# View histogram distribution for mileage\n",
    "sns.histplot(x='mileage', data=cars, ax=ax[1,0], bins=30);\n",
    "ax[1,0].set_title('Histogram Distribution of mileage (C)');\n",
    "\n",
    "# View histplot distribution for subset of cars with mileage less than 200k,\n",
    "# split by condition\n",
    "sns.histplot(x='mileage', data=cars.loc[cars['mileage'] <= 125000], bins=40, hue='condition', multiple='stack', ax=ax[1,1]);\n",
    "ax[1,1].set_title('Histogram Distribution Without Outliers (D)');\n",
    "\n",
    "plt.savefig('figure/figure1.png')"
   ]
  },
  {
   "cell_type": "code",
   "execution_count": null,
   "id": "674231f5-2f23-44e6-8168-1e8c78d2430d",
   "metadata": {},
   "outputs": [],
   "source": [
    "# Get skewness and kurtosis of mileage feature\n",
    "get_skew(cars, 'mileage')"
   ]
  },
  {
   "cell_type": "code",
   "execution_count": null,
   "id": "cdccc53a-59f3-4e0a-a0e7-058fc57514c8",
   "metadata": {},
   "outputs": [],
   "source": [
    "# Create figure for subplots\n",
    "fig, ax = plt.subplots(2,2, figsize=(12,8), constrained_layout=True)\n",
    "\n",
    "# View boxplot distribution for year\n",
    "sns.boxplot(x='year', data=cars, ax=ax[0,0]);\n",
    "ax[0,0].set_title('Box Plot Distribution of Year (A)');\n",
    "\n",
    "# View boxplot distribution without outliers\n",
    "sns.boxplot(x='year', data=cars, showfliers=False, ax=ax[0,1]);\n",
    "ax[0,1].set_title('Box Plot Distribution of Year Without Outliers (B)');\n",
    "\n",
    "# View histogram distribution for year\n",
    "sns.histplot(x='year', data=cars, ax=ax[1,0], bins=30);\n",
    "ax[1,0].set_title('Histogram Distribution of year (C)');\n",
    "\n",
    "# View histogram distribution for years above 2000 split by condition\n",
    "sns.histplot(x='year', data=cars.loc[cars['year'] >= 2006], bins=15, hue='condition', multiple='stack', ax=ax[1,1]);\n",
    "ax[1,1].set_title('Histogram Distribution Without Visual Outliers (D)');"
   ]
  },
  {
   "cell_type": "code",
   "execution_count": null,
   "id": "2b03ec41-1b66-4771-8287-3310640303c0",
   "metadata": {},
   "outputs": [],
   "source": [
    "# Get skewness and kurtosis of year feature\n",
    "get_skew(cars, 'year')"
   ]
  },
  {
   "cell_type": "code",
   "execution_count": null,
   "id": "939fe650-bb52-4216-85f1-4c43d2d60144",
   "metadata": {},
   "outputs": [],
   "source": [
    "# Create figure for subplots\n",
    "fig, ax = plt.subplots(2,2, figsize=(12,8), constrained_layout=True)\n",
    "\n",
    "# View boxplot distribution for price\n",
    "sns.boxplot(x='price', data=cars, ax=ax[0,0]);\n",
    "ax[0,0].set_title('Box Plot Distribution of Price (A)');\n",
    "\n",
    "sns.boxplot(x='price', data=cars, ax=ax[0,1], showfliers=False);\n",
    "ax[0,1].set_title('Box Plot Distribution without Outliers (B)')\n",
    "\n",
    "\n",
    "# View histogram distribution for price\n",
    "sns.histplot(x='price', data=cars, ax=ax[1,0], bins=30);\n",
    "ax[1,0].set_title('Histogram Distribution of price (C)');\n",
    "\n",
    "# View histogram distribution for price under 150k split by condition\n",
    "sns.histplot(x='price', data=cars.loc[cars['price'] <= 40000], bins=21, kde=True, ax=ax[1,1]);\n",
    "ax[1,1].set_title('Histogram Distribution of price Without Outliers (D)');\n",
    "\n",
    "plt.savefig('figure/figure3.png')"
   ]
  },
  {
   "cell_type": "code",
   "execution_count": null,
   "id": "26044d9a-2069-4b0e-bb3d-7af5a1071f83",
   "metadata": {},
   "outputs": [],
   "source": [
    "# Get skewness and kurtosis of price feature\n",
    "get_skew(cars, 'price')"
   ]
  },
  {
   "cell_type": "markdown",
   "id": "b31f29af-20b2-44d3-b70e-496dc741549b",
   "metadata": {},
   "source": [
    "## Analysis of Distributions - Categoric"
   ]
  },
  {
   "cell_type": "code",
   "execution_count": null,
   "id": "3f372ef1-e8ad-47bb-8794-638cf0f9fbc2",
   "metadata": {},
   "outputs": [],
   "source": [
    "# List of categorical features in the dataset\n",
    "features = ['colour', 'make', 'model', 'condition', 'type', 'car_van', 'fuel']\n",
    "\n",
    "# Descriptive statistics of categorical features\n",
    "cars[features].describe(include='all')"
   ]
  },
  {
   "cell_type": "code",
   "execution_count": null,
   "id": "777174c4-d95c-4fff-9e86-3d2a4b6e6117",
   "metadata": {},
   "outputs": [],
   "source": [
    "# Loop through categorical features and plot frequency distribution of values\n",
    "for feature in features:\n",
    "    print(feature)\n",
    "    print(cars[feature].value_counts(normalize=True))\n",
    "    print('') "
   ]
  },
  {
   "cell_type": "code",
   "execution_count": null,
   "id": "ac7da9f9-b042-471d-891e-c53ff0376ebd",
   "metadata": {},
   "outputs": [],
   "source": [
    "# Create figure for subplots\n",
    "fig, axs = plt.subplots(4, 2, figsize=(12,20), constrained_layout=True)\n",
    "\n",
    "# Loop through categorical features and plot frequency distribution of values\n",
    "for feature, ax in zip(features, axs.ravel()):\n",
    "    cars[feature].value_counts().head(20).plot(kind='bar', ax=ax);\n",
    "    ax.set_title('Counts Distribution of {} Descending'.format(feature))\n",
    "   \n",
    "# Delete final plot as only 7 necessary.\n",
    "fig.delaxes(axs[3,1])\n",
    "\n",
    "plt.savefig('figure/figure4.png')"
   ]
  },
  {
   "cell_type": "markdown",
   "id": "b7a71773-759c-4753-9eeb-e522557575e3",
   "metadata": {
    "tags": []
   },
   "source": [
    "## Analysis of Predictive Power of Features\n",
    "\n",
    "Which features are the best for predicting price?"
   ]
  },
  {
   "cell_type": "code",
   "execution_count": null,
   "id": "8c8fa510-ca5e-4132-becc-8290bc09c5b8",
   "metadata": {},
   "outputs": [],
   "source": [
    "fig = plt.figure(figsize=(6,6))\n",
    "sns.heatmap(cars.corr(), annot=True, cmap='Blues');\n",
    "\n",
    "plt.show()"
   ]
  },
  {
   "cell_type": "code",
   "execution_count": null,
   "id": "05f46977-5f7a-4e26-85dc-d1c018a154d6",
   "metadata": {},
   "outputs": [],
   "source": [
    "for feature in cars.columns:\n",
    "    print(cars.groupby(feature)['price'].median().sort_values(ascending=False))"
   ]
  },
  {
   "cell_type": "code",
   "execution_count": null,
   "id": "3dfba27e-9122-46f3-9270-187b0706a3c4",
   "metadata": {},
   "outputs": [],
   "source": [
    "pps.predictors(cars, 'price').sort_values(by='model_score')"
   ]
  },
  {
   "cell_type": "markdown",
   "id": "f8f919d3-dcf4-4c63-9ec8-b20f0ddb66fe",
   "metadata": {},
   "source": [
    "## Dealing with Missing Values and Noise"
   ]
  },
  {
   "cell_type": "code",
   "execution_count": null,
   "id": "55bc8afb-41d9-4698-98de-982d59dd4c2e",
   "metadata": {},
   "outputs": [],
   "source": [
    "# Get number of missing values for each column\n",
    "cars.isnull().sum()"
   ]
  },
  {
   "cell_type": "code",
   "execution_count": null,
   "id": "6babeefa-7fe6-4c9c-a980-52acedc999e2",
   "metadata": {},
   "outputs": [],
   "source": [
    "# Use these values to replace the values in the fuel column.\n",
    "cars['fuel'] = cars.groupby(['make'])['fuel'].transform(lambda x: x.fillna(x.mode(dropna=False).iloc[0]))"
   ]
  },
  {
   "cell_type": "code",
   "execution_count": null,
   "id": "18176968-1ba0-4ff7-a00e-d47f17f77bd1",
   "metadata": {},
   "outputs": [],
   "source": [
    "# Replace null values with the grouped mode of 'make' and 'model'\n",
    "cars['type'] = cars.groupby('make')['type'].transform(lambda x: x.fillna(x.mode(dropna=False).iloc[0]))"
   ]
  },
  {
   "cell_type": "code",
   "execution_count": null,
   "id": "6c623d65-5398-439a-9099-c72ffd296eec",
   "metadata": {},
   "outputs": [],
   "source": [
    "# Replace with mode of full dataset\n",
    "cars['type'] = cars['type'].fillna(cars['type'].mode()[0])\n",
    "\n",
    "# Check for missing values in type\n",
    "cars['type'].isnull().sum()"
   ]
  },
  {
   "cell_type": "code",
   "execution_count": null,
   "id": "e7ff7a0e-8d8c-44da-8408-909f60b3a6f9",
   "metadata": {},
   "outputs": [],
   "source": [
    "# Set 'year' and 'reg' to 2021 for 'NEW' cars\n",
    "cars.loc[cars['condition'] == 'NEW', 'year'] = 2021\n",
    "cars.loc[cars['condition'] == 'NEW', 'reg'] = 21\n",
    "\n",
    "# Check missing values\n",
    "cars[['year','reg']].isnull().sum()"
   ]
  },
  {
   "cell_type": "code",
   "execution_count": null,
   "id": "e9a5e051-c946-4af8-bd47-92132cd148a4",
   "metadata": {},
   "outputs": [],
   "source": [
    "# Fill the missing values with the median of the feature\n",
    "cars['year'] = cars['year'].fillna(cars['year'].median())"
   ]
  },
  {
   "cell_type": "code",
   "execution_count": null,
   "id": "f55311b9-1b9a-45c2-9390-641eb43463e7",
   "metadata": {},
   "outputs": [],
   "source": [
    "# Group years into bins\n",
    "year_labels = ['Very Old', 'Old', 'Neutral Age', 'New', 'Very New']\n",
    "cars['year_bins'] = pd.qcut(cars['year'], q=[0, 0.2, 0.4, 0.6, 0.8, 1], labels=year_labels)"
   ]
  },
  {
   "cell_type": "code",
   "execution_count": null,
   "id": "3716a7ef-0ffa-410a-be66-213961c71e16",
   "metadata": {},
   "outputs": [],
   "source": [
    "# Check skewness of mileage distribution of each year bin.\n",
    "for bins in year_labels:\n",
    "    print('Year bin = {}'.format(bins))\n",
    "    get_skew(cars.loc[cars['year_bins'] == bins], 'mileage')\n",
    "    print('')"
   ]
  },
  {
   "cell_type": "code",
   "execution_count": null,
   "id": "87dadd7c-5bdb-4096-9c75-fe809a19e2f6",
   "metadata": {},
   "outputs": [],
   "source": [
    "# Check mean and median values of mileage for each year_bin.\n",
    "cars.groupby('year_bins')['mileage'].agg(['mean', 'median'])"
   ]
  },
  {
   "cell_type": "code",
   "execution_count": null,
   "id": "a9ba8400-19cd-46da-b1bd-2ddd802578d1",
   "metadata": {},
   "outputs": [],
   "source": [
    "# Replace null values with the grouped mileage median of 'year_bins'\n",
    "cars['mileage'] = cars.groupby('year_bins')['mileage'].transform(lambda x: x.fillna(x.median()))"
   ]
  },
  {
   "cell_type": "code",
   "execution_count": null,
   "id": "96811e16-a01c-4141-8714-f6fdf88b0b65",
   "metadata": {},
   "outputs": [],
   "source": [
    "# Check for missing values\n",
    "cars['colour'].isnull().sum()"
   ]
  },
  {
   "cell_type": "code",
   "execution_count": null,
   "id": "552ce282-6fa8-4bd8-bb70-1e07c4ac4ccf",
   "metadata": {},
   "outputs": [],
   "source": [
    "# Keep missing values in colour as 'Undefined'\n",
    "cars['colour'] = cars['colour'].fillna('Undefined')"
   ]
  },
  {
   "cell_type": "markdown",
   "id": "1cf52e65-e07a-4b15-a7fc-23b07b3024cf",
   "metadata": {},
   "source": [
    "### Outliers"
   ]
  },
  {
   "cell_type": "code",
   "execution_count": null,
   "id": "483c9e97-4d7e-40d7-8a5d-6afa99e45c39",
   "metadata": {},
   "outputs": [],
   "source": [
    "lower, upper = np.percentile(cars['price'], [0.01, 99.99])"
   ]
  },
  {
   "cell_type": "code",
   "execution_count": null,
   "id": "b6064afe-7a3d-4f0e-9d16-8ea9538bba5b",
   "metadata": {},
   "outputs": [],
   "source": [
    "cars.loc[cars['price'] < lower].head(10)"
   ]
  },
  {
   "cell_type": "code",
   "execution_count": null,
   "id": "c35501cd-dd21-4687-ae3a-6d55482b2835",
   "metadata": {},
   "outputs": [],
   "source": [
    "cars.loc[cars['price'] > upper]"
   ]
  },
  {
   "cell_type": "code",
   "execution_count": null,
   "id": "01982dcf-1d90-4992-acac-bbcf750a3aa8",
   "metadata": {},
   "outputs": [],
   "source": [
    "def remove_outliers(df,columns):\n",
    "    # Loop through specified columns\n",
    "    for col in columns:\n",
    "        print('Working on column: {}'.format(col))\n",
    "        \n",
    "        # Set bounds of lower and upper 0.1%\n",
    "        lower, upper = np.percentile(df[col], [0.01, 99.99])\n",
    "\n",
    "        print('Upper bound: {}, Lower Bound: {}'.format(upper, lower))\n",
    "        \n",
    "        # Print the number of outliers\n",
    "        print('Number of values labelled: ', len(df.loc[(df[col] > upper) | (df[col] < lower)]))\n",
    "        \n",
    "        # Set outlier column to true if outlier\n",
    "        df = df.loc[(df[col] <= upper) & (df[col] >= lower)]\n",
    "        \n",
    "    return df"
   ]
  },
  {
   "cell_type": "code",
   "execution_count": null,
   "id": "cded9799-6a5e-499e-aae1-ff89d4020155",
   "metadata": {},
   "outputs": [],
   "source": [
    "# Run function to label outliers and assign to cars dataframe\n",
    "cars = remove_outliers(cars, ['year', 'price'])"
   ]
  },
  {
   "cell_type": "code",
   "execution_count": null,
   "id": "880702c8-847d-4c89-8ec3-e9a129d24732",
   "metadata": {},
   "outputs": [],
   "source": [
    "cars['year'].describe()"
   ]
  },
  {
   "cell_type": "code",
   "execution_count": null,
   "id": "40317c91-6240-4923-b8ca-e8b96afa57cc",
   "metadata": {},
   "outputs": [],
   "source": [
    "# Drop natural gas observation\n",
    "cars = cars.drop(cars.loc[cars['fuel'] == 'Natural Gas'].index)"
   ]
  },
  {
   "cell_type": "markdown",
   "id": "6c2060df-c96d-47df-bcec-1420dd5cacb8",
   "metadata": {},
   "source": [
    "**Reg**\n",
    "\n",
    "Reg provides very similar information to the age/year features, therefore to avoid multi-collinearity in the models, drop this feature."
   ]
  },
  {
   "cell_type": "code",
   "execution_count": null,
   "id": "27371033-792b-4e95-bdde-ae58f791e51b",
   "metadata": {},
   "outputs": [],
   "source": [
    "cars = cars.drop(columns=['reg'])"
   ]
  },
  {
   "cell_type": "markdown",
   "id": "4d05aa42-2b9d-4441-bf48-299115afdd16",
   "metadata": {},
   "source": [
    "## Transformations"
   ]
  },
  {
   "cell_type": "code",
   "execution_count": null,
   "id": "fa825efb-f4be-44a8-a0cb-78c78f255956",
   "metadata": {},
   "outputs": [],
   "source": [
    "# Create 'new' column to consist of True and False (1 and 0)\n",
    "cars['new'] = cars['condition'] == 'NEW'\n",
    "\n",
    "# Get counts of new and used\n",
    "cars['new'].value_counts()"
   ]
  },
  {
   "cell_type": "code",
   "execution_count": null,
   "id": "346abcd9-4387-415c-a814-51716d1d491d",
   "metadata": {},
   "outputs": [],
   "source": [
    "# Convert year to age\n",
    "cars['age'] = 2022 - cars['year']"
   ]
  },
  {
   "cell_type": "code",
   "execution_count": null,
   "id": "f97ab594-9ffa-488b-bd2d-35090129bcdb",
   "metadata": {},
   "outputs": [],
   "source": [
    "# Log transformation of age.\n",
    "cars['age_'] = np.log10(cars['age'])"
   ]
  },
  {
   "cell_type": "code",
   "execution_count": null,
   "id": "0012a05f-9d1e-4974-9e7d-bc0073f06fb7",
   "metadata": {},
   "outputs": [],
   "source": [
    "# Transform price using log base 10\n",
    "cars['price_'] = np.log10(cars['price'])"
   ]
  },
  {
   "cell_type": "code",
   "execution_count": null,
   "id": "3f844563-526b-4e42-b09e-945e6a33f2ca",
   "metadata": {},
   "outputs": [],
   "source": [
    "fig = plt.figure(figsize=(8,6))\n",
    "cars['price_'].hist();"
   ]
  },
  {
   "cell_type": "code",
   "execution_count": null,
   "id": "f1ecc2a4-3825-4707-b101-dffce990e39a",
   "metadata": {},
   "outputs": [],
   "source": [
    "# Transform mileage using square root\n",
    "cars['mileage_'] = np.sqrt(cars['mileage'])"
   ]
  },
  {
   "cell_type": "code",
   "execution_count": null,
   "id": "808123a0-aac6-49fe-be67-453411f58f08",
   "metadata": {},
   "outputs": [],
   "source": [
    "sns.pairplot(data=cars.sample(10000,random_state=0)[['price_','age','mileage_']]);"
   ]
  },
  {
   "cell_type": "code",
   "execution_count": null,
   "id": "aa085c7e-6520-430c-acd7-98cb9546ef90",
   "metadata": {},
   "outputs": [],
   "source": [
    "# Split mileage data into 5 equally spaced bins.\n",
    "mileage_labels = ['Very Low', 'Low', 'Medium', 'High', 'Very High']\n",
    "cars['mileage_bins'] = pd.qcut(cars['mileage'], q=[0, 0.2, 0.4, 0.6, 0.8, 1], labels=mileage_labels)"
   ]
  },
  {
   "cell_type": "code",
   "execution_count": null,
   "id": "6be9a7ed-a696-41d7-9ce0-6a7327b82580",
   "metadata": {},
   "outputs": [],
   "source": [
    "# Group years into bins\n",
    "year_labels = ['Very Old', 'Old', 'Neutral Age', 'New', 'Very New']\n",
    "cars['year_bins'] = pd.qcut(cars['year'], q=[0, 0.2, 0.4, 0.6, 0.8, 1], labels=year_labels)"
   ]
  },
  {
   "cell_type": "code",
   "execution_count": null,
   "id": "7c1479f2-d8ff-4b77-a2bb-cae9ac869020",
   "metadata": {},
   "outputs": [],
   "source": [
    "# Create subplots for visualisation\n",
    "fig, axs = plt.subplots(1, 2, figsize=(12,6), constrained_layout=True)\n",
    "\n",
    "# Create box-plots of year_bins and mileage_bins against price\n",
    "sns.boxplot(x='year_bins', y='price', data=cars, ax=axs[0], showfliers=False);\n",
    "sns.boxplot(x='mileage_bins', y='price', data=cars, ax=axs[1], showfliers=False);\n",
    "\n",
    "plt.savefig('figure/figure16.png')"
   ]
  },
  {
   "cell_type": "markdown",
   "id": "481f5af5-198e-43f6-ad3d-c42bba031e14",
   "metadata": {},
   "source": [
    "### New Correlation and Predictive Power Score"
   ]
  },
  {
   "cell_type": "code",
   "execution_count": null,
   "id": "ab44f523-37fb-4487-a5cb-fe7f61e4a83c",
   "metadata": {},
   "outputs": [],
   "source": [
    "plt.figure(figsize=(10,8))\n",
    "\n",
    "# Create annotated correlation heatmap\n",
    "sns.heatmap(cars.corr(), annot=True, cmap=\"Blues\", fmt='.2f');"
   ]
  },
  {
   "cell_type": "code",
   "execution_count": null,
   "id": "0bf24db3-acba-4f6e-87a3-38c65c866dad",
   "metadata": {},
   "outputs": [],
   "source": [
    "# Look at correlation for price and newly log transformed price.\n",
    "print(np.abs(cars.corr()['price']).sort_values(ascending=False))\n",
    "print('')\n",
    "print(np.abs(cars.corr()['price_']).sort_values(ascending=False))"
   ]
  },
  {
   "cell_type": "code",
   "execution_count": null,
   "id": "52484631-62d2-4aae-bd0d-6f02762cde07",
   "metadata": {},
   "outputs": [],
   "source": [
    "# Build predictive power score table\n",
    "pred_power = pps.predictors(cars.drop(columns=['price']), 'price_').sort_values(by='model_score')\n",
    "pred_power"
   ]
  },
  {
   "cell_type": "code",
   "execution_count": null,
   "id": "4d8c6119-60d7-4533-8c86-75e0284dde52",
   "metadata": {},
   "outputs": [],
   "source": [
    "# Build predictive power score table\n",
    "pred_power = pps.predictors(cars.drop(columns=['price_']), 'price').sort_values(by='model_score')\n",
    "pred_power"
   ]
  },
  {
   "cell_type": "code",
   "execution_count": null,
   "id": "e2cb2f6a-d781-4d59-9ee7-85be4b4a3689",
   "metadata": {},
   "outputs": [],
   "source": [
    "pred_power = pps.predictors(cars.drop(columns='price'), 'price_').sort_values(by='model_score')\n",
    "pred_power"
   ]
  },
  {
   "cell_type": "code",
   "execution_count": null,
   "id": "774bdc6e-5c6a-4998-8817-66d5e4bf7cc6",
   "metadata": {},
   "outputs": [],
   "source": [
    "pred_power = pps.predictors(cars.drop(columns=['price','year','age_','year_bins','condition','mileage']), 'price_').sort_values(by='model_score')\n",
    "pred_power"
   ]
  },
  {
   "cell_type": "code",
   "execution_count": null,
   "id": "02d87274-c9a1-433f-98c3-02bf98f28958",
   "metadata": {},
   "outputs": [],
   "source": [
    "# Create figure for plot\n",
    "fig = plt.figure(figsize=(10,8))\n",
    "\n",
    "# Barplot of predictive power score by feature\n",
    "sns.barplot(x='ppscore', y='x', data=pred_power.loc[pred_power['model_score'] > 0], palette='Reds');\n",
    "plt.xlabel('Predictive Power Score');\n",
    "plt.ylabel('Feature');\n",
    "\n",
    "plt.savefig('figure/figure5.png')"
   ]
  },
  {
   "cell_type": "markdown",
   "id": "3614ee54-508c-4f4f-b5fc-c01e3facbcee",
   "metadata": {},
   "source": [
    "Feature Selection\n",
    "- Age\n",
    "- Model\n",
    "- Make\n",
    "- Type\n",
    "- New\n",
    "- Fuel\n",
    "- Mileage_\n",
    "- Colour\n",
    "- Car_van"
   ]
  },
  {
   "cell_type": "markdown",
   "id": "f5c427b6-b68f-40fa-991a-911933ab03ec",
   "metadata": {
    "tags": []
   },
   "source": [
    "# Peparing for Machine Learning Models"
   ]
  },
  {
   "cell_type": "markdown",
   "id": "1f970ea4-467a-4665-80a7-c68b06a53a95",
   "metadata": {},
   "source": [
    "## Train / Test Split"
   ]
  },
  {
   "cell_type": "code",
   "execution_count": null,
   "id": "a8fd5ee2-2bb1-4efc-acdc-4efd78113616",
   "metadata": {},
   "outputs": [],
   "source": [
    "# Create split for selected features\n",
    "features = ['age','model','make','type','new','fuel','mileage_','colour','car_van']\n",
    "X = cars[features]\n",
    "y = cars['price_']"
   ]
  },
  {
   "cell_type": "code",
   "execution_count": null,
   "id": "d989982d-2370-44ef-a425-82455fc9c547",
   "metadata": {},
   "outputs": [],
   "source": [
    "# Create a train/test split for model building and validation\n",
    "X_train, X_test, y_train, y_test = train_test_split(\n",
    "    X, y, \n",
    "    test_size=0.25, random_state=0\n",
    ")"
   ]
  },
  {
   "cell_type": "code",
   "execution_count": null,
   "id": "90e4daab-2440-4845-a8c6-22d7d6a555fa",
   "metadata": {},
   "outputs": [],
   "source": [
    "print('Shape of training data: {}'.format(X_train.shape))\n",
    "print('Shape of test data: {}'.format(X_test.shape))\n",
    "\n",
    "X_train.head()"
   ]
  },
  {
   "cell_type": "code",
   "execution_count": null,
   "id": "96a31392-1e0d-41a0-a45c-c506dd96d2b4",
   "metadata": {},
   "outputs": [],
   "source": [
    "# Take sample of the dataset for faster search times\n",
    "sample = cars.sample(40000, random_state=0)\n",
    "X_sample = sample[features]\n",
    "y_sample = sample['price_']\n",
    "\n",
    "# Create a sample data train/test split for model building and evaluation\n",
    "SX_train, SX_test, Sy_train, Sy_test = train_test_split(\n",
    "    X_sample, y_sample, \n",
    "    test_size = 0.25, random_state=0\n",
    ")"
   ]
  },
  {
   "cell_type": "code",
   "execution_count": null,
   "id": "6820b564-edec-43ca-a4d7-d9d811fd4133",
   "metadata": {},
   "outputs": [],
   "source": [
    "print('Shape of sample training data: {}'.format(SX_train.shape))\n",
    "print('Shape of sample test data: {}'.format(SX_test.shape))"
   ]
  },
  {
   "cell_type": "markdown",
   "id": "5fa7fe16-243d-44ec-be3b-a1fb045bbc26",
   "metadata": {},
   "source": [
    "## Baseline Models"
   ]
  },
  {
   "cell_type": "markdown",
   "id": "020dd25b-d26b-4485-800a-b607bb704a15",
   "metadata": {},
   "source": [
    "### Recording Baseline Results"
   ]
  },
  {
   "cell_type": "code",
   "execution_count": null,
   "id": "68a9909c-d745-4a54-8f09-177fb79b7301",
   "metadata": {},
   "outputs": [],
   "source": [
    "# Import library for recording evaluation metrics\n",
    "from prettytable import PrettyTable\n",
    "table = PrettyTable()\n",
    "table.field_names = ['Model', 'MAE', 'MAPE', 'RMSE', 'R2-Score']\n",
    "table.sortby = \"MAE\""
   ]
  },
  {
   "cell_type": "code",
   "execution_count": null,
   "id": "18b999d6-d8a9-4692-b562-6efa7616c0eb",
   "metadata": {},
   "outputs": [],
   "source": [
    "# Define function for transforming price_ back to price\n",
    "def add_transformed_row(reg, X, y, label, table):\n",
    "    y_pred = 10 ** reg.predict(X)\n",
    "    y_true = 10 ** y\n",
    "    \n",
    "    mae = np.round(mean_absolute_error(y_pred, y_true),3)\n",
    "    mape = np.round(mean_absolute_percentage_error(y_pred, y_true),3)\n",
    "    rmse = np.round(mean_squared_error(y_pred, y_true, squared=False),3)\n",
    "    r2 = np.round(r2_score(y_pred, y_true),3)\n",
    "    \n",
    "    table.add_row([label, mae, mape, rmse, r2])\n",
    "    \n",
    "    return y_pred, y_true"
   ]
  },
  {
   "cell_type": "code",
   "execution_count": null,
   "id": "c941a331-afad-49f1-9996-3b9e5272acf0",
   "metadata": {},
   "outputs": [],
   "source": [
    "# Dummy regressor to predict mean only\n",
    "dummy = DummyRegressor(strategy='mean')\n",
    "dummy.fit(SX_train, Sy_train)\n",
    "\n",
    "y_pred, y_true = add_transformed_row(dummy, SX_test, Sy_test, 'Dummy Mean', table)\n",
    "table"
   ]
  },
  {
   "cell_type": "code",
   "execution_count": null,
   "id": "31cfbcd2-464c-4b2a-a9a9-aae758cc858e",
   "metadata": {},
   "outputs": [],
   "source": [
    "# Dummy regressor to predict median only\n",
    "dummy_med = DummyRegressor(strategy='median')\n",
    "dummy_med.fit(SX_train, Sy_train)\n",
    "\n",
    "add_transformed_row(dummy_med, SX_test, Sy_test, 'Dummy Median', table)\n",
    "table"
   ]
  },
  {
   "cell_type": "code",
   "execution_count": null,
   "id": "b4ff5035-888d-4c48-be9a-2b6eef40f0d3",
   "metadata": {},
   "outputs": [],
   "source": [
    "# Simple linear regression model using mileage and age\n",
    "reg = LinearRegression()\n",
    "\n",
    "reg.fit(SX_train[['mileage_','age']], Sy_train)\n",
    "y_pred, y_true = add_transformed_row(reg, SX_test[['mileage_','age']], Sy_test, 'Linear Regression Baseline', table)\n",
    "table"
   ]
  },
  {
   "cell_type": "code",
   "execution_count": null,
   "id": "00c5cc27-c282-4061-b65d-e21b8b195263",
   "metadata": {},
   "outputs": [],
   "source": [
    "# Visualise the predicted/actual values of price\n",
    "ax = sns.scatterplot(x=y_true, y=y_pred, alpha=0.5)\n",
    "ax.set_xlabel('Actual Target Value')\n",
    "ax.set_ylabel('Predicted Target Value')\n",
    "ax.set_xlim(0, 300000)\n",
    "ax.set_ylim(0, 300000)\n",
    "ax.plot((0, 1000000), (0, 1000000), ':k', alpha=0.3, lw=1);"
   ]
  },
  {
   "cell_type": "code",
   "execution_count": null,
   "id": "21f31842-17e5-4d1b-a84f-e2518d1bef17",
   "metadata": {},
   "outputs": [],
   "source": [
    "# Show table of evaluation for basic models.\n",
    "table"
   ]
  },
  {
   "cell_type": "markdown",
   "id": "11b8a1dd-09ec-4c18-91aa-494c0ba1090c",
   "metadata": {},
   "source": [
    "## Pipelines and Transformers"
   ]
  },
  {
   "cell_type": "markdown",
   "id": "f76c2e67-386d-4dc9-9a0d-687f275cf4a9",
   "metadata": {},
   "source": [
    "### One Hot Encoding"
   ]
  },
  {
   "cell_type": "code",
   "execution_count": null,
   "id": "3f0c8b07-7077-40d1-bcfa-002257f345c8",
   "metadata": {},
   "outputs": [],
   "source": [
    "# Show number of unique values in each feature\n",
    "for feature in X.columns:\n",
    "    print(feature, len(cars[feature].unique()))"
   ]
  },
  {
   "cell_type": "code",
   "execution_count": null,
   "id": "4180fc6f-2cbd-4208-9214-150a88e01d4e",
   "metadata": {},
   "outputs": [],
   "source": [
    "# Define features for one hot encoding\n",
    "onehot_features = ['type','fuel']\n",
    "\n",
    "# Build transformer for one hot encoding\n",
    "onehot_transformer = Pipeline(\n",
    "    steps=[ \n",
    "        (\"ohe\", OneHotEncoder(handle_unknown=\"ignore\"))\n",
    "    ]\n",
    ")\n",
    "\n",
    "# Fit the sample training data\n",
    "onehot_transformer.fit(SX_train[onehot_features])"
   ]
  },
  {
   "cell_type": "code",
   "execution_count": null,
   "id": "5bc53a35-fe7f-44dc-acae-69e83d233c22",
   "metadata": {},
   "outputs": [],
   "source": [
    "# Trial the transformer\n",
    "onehot = onehot_transformer.fit_transform(SX_train[onehot_features])\n",
    "print('The shape of the array: ',onehot.todense().shape)\n",
    "onehot.todense()"
   ]
  },
  {
   "cell_type": "markdown",
   "id": "73f446f1-f2ca-45fb-b68a-f97d8c5f7232",
   "metadata": {},
   "source": [
    "### Target Encoding"
   ]
  },
  {
   "cell_type": "code",
   "execution_count": null,
   "id": "b5117ad0-c830-4f1f-bc2c-68fe3ca4f2dd",
   "metadata": {},
   "outputs": [],
   "source": [
    "# Define features for target encoding\n",
    "target_features = ['make','model','colour']\n",
    "\n",
    "# Build transformer for target encoding\n",
    "target_transformer = Pipeline(\n",
    "    steps=[\n",
    "        (\"tar\", TargetEncoder()),\n",
    "        (\"scaler\", StandardScaler())\n",
    "    ]\n",
    ")\n",
    "\n",
    "# Fit the sample training data\n",
    "target_transformer.fit(SX_train[target_features], Sy_train)"
   ]
  },
  {
   "cell_type": "code",
   "execution_count": null,
   "id": "4a124b01-adda-44d4-ab7e-8d39cb0ce451",
   "metadata": {},
   "outputs": [],
   "source": [
    "target = target_transformer.fit_transform(SX_train[target_features], Sy_train)\n",
    "print('The shape of the array: ', target.shape)\n",
    "target"
   ]
  },
  {
   "cell_type": "markdown",
   "id": "c0e80c5c-ec2f-46ab-82a1-7f2bb6013e4c",
   "metadata": {},
   "source": [
    "### Numeric Encoding"
   ]
  },
  {
   "cell_type": "code",
   "execution_count": null,
   "id": "cf8b977f-8cca-49a1-81a5-52bc1ef2d203",
   "metadata": {},
   "outputs": [],
   "source": [
    "# Define numeric features for scaling\n",
    "num_features = ['mileage_','age']\n",
    "\n",
    "# Building transformer for numeric features\n",
    "num_transformer = Pipeline(\n",
    "    steps=[\n",
    "        (\"scaler\", StandardScaler())\n",
    "    ]\n",
    ")\n",
    "\n",
    "# Fit the sample training data\n",
    "num_transformer.fit(SX_train[num_features])"
   ]
  },
  {
   "cell_type": "code",
   "execution_count": null,
   "id": "6d2e045e-82be-4ec5-acac-7ae6365830bd",
   "metadata": {},
   "outputs": [],
   "source": [
    "# Check all is working correctly\n",
    "num = num_transformer.fit_transform(SX_train[num_features])\n",
    "print('The shape of the array: ', num.shape)\n",
    "num"
   ]
  },
  {
   "cell_type": "markdown",
   "id": "872af39f-2a6a-4bc8-ac23-53c121f6dd05",
   "metadata": {},
   "source": [
    "### Preprocessor Transformer"
   ]
  },
  {
   "cell_type": "code",
   "execution_count": null,
   "id": "46e4a192-0cb0-4d0e-812c-051ca98bbd0c",
   "metadata": {},
   "outputs": [],
   "source": [
    "# Build a preprocessor to run numeric, one hot and target transformers\n",
    "preprocessor = ColumnTransformer(\n",
    "    transformers=[\n",
    "        (\"num\", num_transformer, num_features),\n",
    "        (\"onehot\", onehot_transformer, onehot_features),\n",
    "        (\"target\", target_transformer, target_features),\n",
    "    ],\n",
    "    remainder='passthrough'\n",
    ")"
   ]
  },
  {
   "cell_type": "code",
   "execution_count": null,
   "id": "d86edda7-e846-40b7-adbc-36cbeb9bb08d",
   "metadata": {},
   "outputs": [],
   "source": [
    "# Trial the preprocessor\n",
    "pre = preprocessor.fit_transform(SX_train, Sy_train)\n",
    "print('Shape of the array: ', pre.shape)\n",
    "pre"
   ]
  },
  {
   "cell_type": "code",
   "execution_count": null,
   "id": "eeb4be0e-a6fc-4374-9d6f-0e1fb8397ccb",
   "metadata": {},
   "outputs": [],
   "source": [
    "# Define function pipeline to make building Pipelines easier\n",
    "def pipeline(reg):\n",
    "    pipeline = Pipeline(steps=[(\"preprocessor\", preprocessor), (\"regressor\", reg)])\n",
    "    return pipeline"
   ]
  },
  {
   "cell_type": "code",
   "execution_count": null,
   "id": "b8987670-4bdf-48b5-84c4-9c5c7adaef98",
   "metadata": {},
   "outputs": [],
   "source": [
    "features"
   ]
  },
  {
   "cell_type": "code",
   "execution_count": null,
   "id": "e1c425ed-4be9-45e5-986d-aa968f025170",
   "metadata": {},
   "outputs": [],
   "source": [
    "cols = num_features + onehot_features + target_features + ['new']\n",
    "cols"
   ]
  },
  {
   "cell_type": "markdown",
   "id": "722ee218-9e34-4750-824c-5f80c867c5c6",
   "metadata": {},
   "source": [
    "## Building Intitial Models"
   ]
  },
  {
   "cell_type": "markdown",
   "id": "616e8c98-df7d-42ba-8eb1-fa1edef0b46b",
   "metadata": {},
   "source": [
    "### Linear Regression"
   ]
  },
  {
   "cell_type": "code",
   "execution_count": null,
   "id": "b1842fca-6f66-4f2e-a1a1-f36771d98289",
   "metadata": {},
   "outputs": [],
   "source": [
    "# Build linear regression model\n",
    "reg = pipeline(LinearRegression())\n",
    "reg.fit(SX_train, Sy_train)"
   ]
  },
  {
   "cell_type": "code",
   "execution_count": null,
   "id": "e558fddc-280f-4226-9af1-6fe8daabdab0",
   "metadata": {},
   "outputs": [],
   "source": [
    "# View coefficients of linear model\n",
    "reg[1].coef_"
   ]
  },
  {
   "cell_type": "code",
   "execution_count": null,
   "id": "0b62d069-dde6-4bdf-bba6-a505f8b08d7f",
   "metadata": {},
   "outputs": [],
   "source": [
    "# Get feature names from one hot transformer\n",
    "reg['preprocessor'].transformers[1][1].get_feature_names_out(onehot_features)"
   ]
  },
  {
   "cell_type": "code",
   "execution_count": null,
   "id": "1b9ff6b5-3bff-4ddf-bb72-1b9d665f101e",
   "metadata": {},
   "outputs": [],
   "source": [
    "# Get feature names of numeric transformer\n",
    "num_feat = list(reg['preprocessor'].transformers[0][1].get_feature_names_out(num_features))\n",
    "\n",
    "# Get feature names of one hot transformer\n",
    "one_hot_feat = list(reg['preprocessor'].transformers[1][1].get_feature_names_out(onehot_features))\n",
    "\n",
    "# Build full feature names to replace columns\n",
    "encoded_features = num_feat + one_hot_feat + target_features + ['new', 'car_van']"
   ]
  },
  {
   "cell_type": "code",
   "execution_count": null,
   "id": "0e6263f5-f9a7-42e8-bf75-aedd0196bbea",
   "metadata": {},
   "outputs": [],
   "source": [
    "# See how linear model ranks the features.\n",
    "feat_imp = pd.DataFrame(reg[1].coef_)\n",
    "feat_imp['name'] = encoded_features\n",
    "feat_imp = feat_imp.sort_values(by=0, ascending=False)\n",
    "\n",
    "# Plot feature importance coefficients\n",
    "sns.barplot(x=0, y='name', data=feat_imp);"
   ]
  },
  {
   "cell_type": "code",
   "execution_count": null,
   "id": "28083784-3696-450b-98b3-34e6153c4e2c",
   "metadata": {},
   "outputs": [],
   "source": [
    "# Add linear regression model to evaluation table\n",
    "y_pred, y_true = add_transformed_row(reg, SX_test, Sy_test, 'Linear Regression (1)', table)\n",
    "table"
   ]
  },
  {
   "cell_type": "markdown",
   "id": "149063c4-2222-4231-9a84-30caa71a89e2",
   "metadata": {},
   "source": [
    "### Decision Tree Regressor"
   ]
  },
  {
   "cell_type": "code",
   "execution_count": null,
   "id": "316a0a55-b226-49fa-aba6-36e3fc885f77",
   "metadata": {},
   "outputs": [],
   "source": [
    "# Build decision tree model\n",
    "dtree = pipeline(DecisionTreeRegressor())\n",
    "dtree.fit(SX_train, Sy_train)"
   ]
  },
  {
   "cell_type": "code",
   "execution_count": null,
   "id": "64c81d27-4a23-422e-ac81-a97015bbdc06",
   "metadata": {},
   "outputs": [],
   "source": [
    "# Add decision tree model to evaluation table\n",
    "y_pred, y_true = add_transformed_row(dtree, SX_test, Sy_test, 'Decision Tree (1)', table)\n",
    "table"
   ]
  },
  {
   "cell_type": "code",
   "execution_count": null,
   "id": "e59a0914-33ac-439b-8c17-ff42977b1241",
   "metadata": {},
   "outputs": [],
   "source": [
    "# View MAE for decision tree with \"price_\" as reference\n",
    "mean_absolute_error(dtree.predict(SX_test), Sy_test)"
   ]
  },
  {
   "cell_type": "code",
   "execution_count": null,
   "id": "4ead50ad-6f4a-4e91-ad06-4adc75699f0e",
   "metadata": {},
   "outputs": [],
   "source": [
    "# Get feature importances from decision tree\n",
    "feat_imp = pd.DataFrame(dtree[1].feature_importances_)\n",
    "feat_imp['name'] = encoded_features\n",
    "feat_imp = feat_imp.sort_values(by=0, ascending=False)\n",
    "\n",
    "# Visualise the feature importance\n",
    "sns.barplot(x=0,y='name', data=feat_imp.head(12));"
   ]
  },
  {
   "cell_type": "code",
   "execution_count": null,
   "id": "14639622-93f3-4f06-a7c1-9ba4b3137ffc",
   "metadata": {},
   "outputs": [],
   "source": [
    "# View the predicted/actual plot for decision tree model\n",
    "ax = sns.scatterplot(x=y_true, y=y_pred, alpha=0.5)\n",
    "ax.set_xlabel('Actual Target Value')\n",
    "ax.set_ylabel('Predicted Target Value')\n",
    "ax.set_xlim(0, 300000)\n",
    "ax.set_ylim(0, 300000)\n",
    "ax.plot((0, 300000), (0, 300000), ':k', alpha=0.3, lw=1);"
   ]
  },
  {
   "cell_type": "markdown",
   "id": "097fcbcb-4a36-4ff2-b448-8bca674f9c97",
   "metadata": {},
   "source": [
    "### Random Forest Regressor"
   ]
  },
  {
   "cell_type": "code",
   "execution_count": null,
   "id": "d40938b3-efdc-43c5-a4d7-f043a3f8b14e",
   "metadata": {},
   "outputs": [],
   "source": [
    "# Build random forest model\n",
    "forest = pipeline(RandomForestRegressor())\n",
    "forest.fit(SX_train, Sy_train)"
   ]
  },
  {
   "cell_type": "code",
   "execution_count": null,
   "id": "fba6c0e9-2237-4036-b21c-3261d775c135",
   "metadata": {},
   "outputs": [],
   "source": [
    "# Add random forest model to evaluation table\n",
    "y_pred, y_true = add_transformed_row(forest, SX_test, Sy_test, 'Random Forest (1)', table)\n",
    "table"
   ]
  },
  {
   "cell_type": "code",
   "execution_count": null,
   "id": "bcffd35d-2c04-4033-b9e7-b732fa4ab9d4",
   "metadata": {},
   "outputs": [],
   "source": [
    "# View predicted/actual plot for random forest\n",
    "ax = sns.scatterplot(x=y_true, y=y_pred, alpha=0.5)\n",
    "ax.set_xlabel('Actual Target Value')\n",
    "ax.set_ylabel('Predicted Target Value')\n",
    "ax.set_xlim(0, 300000)\n",
    "ax.set_ylim(0, 300000)\n",
    "ax.plot((0, 300000), (0, 300000), ':k', alpha=0.3, lw=1);"
   ]
  },
  {
   "cell_type": "code",
   "execution_count": null,
   "id": "1782cbad-6d2d-41d3-906c-d09be00006d0",
   "metadata": {},
   "outputs": [],
   "source": [
    "# Get feature importance from random forest\n",
    "feat_imp = pd.DataFrame(forest[1].feature_importances_)\n",
    "feat_imp['name'] = encoded_features\n",
    "feat_imp = feat_imp.sort_values(by=0, ascending=False)\n",
    "\n",
    "# Visualise feature importance\n",
    "sns.barplot(x=0, y='name', data=feat_imp.head(12));"
   ]
  },
  {
   "cell_type": "code",
   "execution_count": null,
   "id": "f234b935-99d9-4c6a-bcb9-25f5efa3bd25",
   "metadata": {},
   "outputs": [],
   "source": [
    "# Evaluate MAE for reference\n",
    "mean_absolute_error(forest.predict(SX_test), Sy_test)# "
   ]
  },
  {
   "cell_type": "markdown",
   "id": "678c1811-593b-4c64-a67c-5d545998e53a",
   "metadata": {},
   "source": [
    "### Ridge Regression"
   ]
  },
  {
   "cell_type": "code",
   "execution_count": null,
   "id": "10be01a4-8bca-4396-8f85-0ec416f983ce",
   "metadata": {},
   "outputs": [],
   "source": [
    "# Build ridge regression model\n",
    "ridge = pipeline(Ridge())\n",
    "ridge.fit(SX_train, Sy_train)"
   ]
  },
  {
   "cell_type": "code",
   "execution_count": null,
   "id": "858c18a9-7171-43b3-bf36-2a8e1386e4e8",
   "metadata": {},
   "outputs": [],
   "source": [
    "# Add ridge regression model to evaluation table\n",
    "y_pred, y_true = add_transformed_row(ridge, SX_test, Sy_test, 'Ridge Regression (1)', table)\n",
    "table"
   ]
  },
  {
   "cell_type": "markdown",
   "id": "f5a590b9-e96a-4824-9b22-0aa07c9046dd",
   "metadata": {},
   "source": [
    "### Support Vector Machines"
   ]
  },
  {
   "cell_type": "code",
   "execution_count": null,
   "id": "94d44a76-d215-4f2f-9bd0-39963bc3da54",
   "metadata": {},
   "outputs": [],
   "source": [
    "# Build SVM regression model\n",
    "svm = pipeline(SVR())\n",
    "svm.fit(SX_train, Sy_train)"
   ]
  },
  {
   "cell_type": "code",
   "execution_count": null,
   "id": "1ec8d7bf-7a49-493f-a812-ccb3f4ac2b33",
   "metadata": {},
   "outputs": [],
   "source": [
    "# Add SVM model to evaluation table\n",
    "y_pred, y_true = add_transformed_row(svm, SX_test, Sy_test, 'SVM Regression (1)', table)\n",
    "table"
   ]
  },
  {
   "cell_type": "markdown",
   "id": "05aaa52f-5bdb-4b3d-ae70-0d3219a34035",
   "metadata": {},
   "source": [
    "### Light GBM Regressor"
   ]
  },
  {
   "cell_type": "code",
   "execution_count": null,
   "id": "bfacaae0-5724-4316-889a-45c3d73f7f25",
   "metadata": {},
   "outputs": [],
   "source": [
    "# Build Light GBM regression model\n",
    "lgbR = pipeline(lgb.LGBMRegressor())\n",
    "lgbR.fit(SX_train, Sy_train)"
   ]
  },
  {
   "cell_type": "code",
   "execution_count": null,
   "id": "f4dc547f-ef60-4da3-aa57-de69e998eb46",
   "metadata": {},
   "outputs": [],
   "source": [
    "# Add LGBM Regression model to evaluation table\n",
    "y_pred, y_true = add_transformed_row(lgbR, SX_test, Sy_test, 'LGB Regressor', table)\n",
    "table"
   ]
  },
  {
   "cell_type": "markdown",
   "id": "ca3b5486-53c6-4911-a05e-705e3d4b6077",
   "metadata": {},
   "source": [
    "### XGBoost Regressor"
   ]
  },
  {
   "cell_type": "code",
   "execution_count": null,
   "id": "ad479a87-98f9-48c0-9544-675fdebc257b",
   "metadata": {},
   "outputs": [],
   "source": [
    "# Build XGBoost regression model\n",
    "xgbR = pipeline(xgb.XGBRegressor())\n",
    "xgbR.fit(SX_train, Sy_train)"
   ]
  },
  {
   "cell_type": "code",
   "execution_count": null,
   "id": "d3264acf-a14e-4b85-9820-920c2276259f",
   "metadata": {},
   "outputs": [],
   "source": [
    "# Visualise decision tree graph\n",
    "xgb.plot_tree(xgbR[1], num_trees=0)\n",
    "plt.rcParams['figure.figsize'] = [100, 20]\n",
    "plt.show()"
   ]
  },
  {
   "cell_type": "code",
   "execution_count": null,
   "id": "5747eaf3-df86-4949-98aa-8c47f3408a67",
   "metadata": {},
   "outputs": [],
   "source": [
    "# Add XGBoost model to evaluation table\n",
    "y_pred, y_true = add_transformed_row(xgbR, X_test, y_test, 'XGBoost', table)\n",
    "table"
   ]
  },
  {
   "cell_type": "markdown",
   "id": "eb717939-8f38-46a2-addb-375a83156ce0",
   "metadata": {},
   "source": [
    "## Overfit / Underfit Trade Off"
   ]
  },
  {
   "cell_type": "code",
   "execution_count": null,
   "id": "8afd9a8d-7291-4af0-a301-8939dbaaf940",
   "metadata": {},
   "outputs": [],
   "source": [
    "# Set variables\n",
    "depth = range(2, 50, 2)\n",
    "train_mae = []\n",
    "test_mae = []\n",
    "\n",
    "# Loop through max_depth and record train/test MAE\n",
    "for dep in depth:\n",
    "    dtree = pipeline(DecisionTreeRegressor(max_depth=dep))\n",
    "    dtree.fit(SX_train, Sy_train)\n",
    "    \n",
    "    train_mae.append(mean_absolute_error(10**dtree.predict(SX_train), 10**Sy_train))\n",
    "    test_mae.append(mean_absolute_error(10**dtree.predict(SX_test), 10**Sy_test))"
   ]
  },
  {
   "cell_type": "code",
   "execution_count": null,
   "id": "af105bbb-2c0f-4339-ae7d-1032b04c128f",
   "metadata": {},
   "outputs": [],
   "source": [
    "# Create dataframe from values\n",
    "fit_data = pd.DataFrame([list(depth), train_mae, test_mae]).transpose()\n",
    "fit_data.columns = ['depth','train_mae','test_mae']\n",
    "fit_data.sort_values(by='test_mae')"
   ]
  },
  {
   "cell_type": "code",
   "execution_count": null,
   "id": "7e348437-6547-4662-a3af-cb323c0b3470",
   "metadata": {},
   "outputs": [],
   "source": [
    "# Visualise the train/test evaluation metric MAE for overfitting\n",
    "fig = plt.figure(figsize=(8,6))\n",
    "sns.lineplot(y=train_mae, x=depth);\n",
    "sns.lineplot(x=depth, y=test_mae);\n",
    "plt.xticks(range(0,48,2))\n",
    "\n",
    "plt.show()"
   ]
  },
  {
   "cell_type": "markdown",
   "id": "99cab743-d9d0-441f-8ffc-869b55b49608",
   "metadata": {},
   "source": [
    "Begins to overfit the data at approximately max_depth = 14."
   ]
  },
  {
   "cell_type": "code",
   "execution_count": null,
   "id": "019a1884-3cf9-42cc-b531-08aac5c2b9c6",
   "metadata": {},
   "outputs": [],
   "source": [
    "dtree = pipeline(DecisionTreeRegressor(max_depth=14))\n",
    "dtree.fit(SX_train, Sy_train)"
   ]
  },
  {
   "cell_type": "code",
   "execution_count": null,
   "id": "b152c570-9314-40f1-9214-0aff85bbd575",
   "metadata": {},
   "outputs": [],
   "source": [
    "# Record new decision tree model in evaluation table\n",
    "y_pred, y_true = add_transformed_row(dtree, SX_test, Sy_test, 'Decision Tree Max Depth 14', table)\n",
    "table"
   ]
  },
  {
   "cell_type": "code",
   "execution_count": null,
   "id": "aca75828-16f4-4bbc-a576-cbaa800519de",
   "metadata": {},
   "outputs": [],
   "source": [
    "# Set variables\n",
    "depth = range(2, 50, 2)\n",
    "train_mae = []\n",
    "test_mae = []\n",
    "\n",
    "# Loop through max_depth and record train/test MAE\n",
    "for dep in depth:\n",
    "    forest = pipeline(RandomForestRegressor(max_depth=dep, n_jobs=2))\n",
    "    forest.fit(SX_train, Sy_train)\n",
    "    \n",
    "    train_mae.append(mean_absolute_error(10**forest.predict(SX_train), 10**Sy_train))\n",
    "    test_mae.append(mean_absolute_error(10**forest.predict(SX_test), 10**Sy_test))"
   ]
  },
  {
   "cell_type": "code",
   "execution_count": null,
   "id": "5a690223-a823-4dea-9fe6-5310256be468",
   "metadata": {},
   "outputs": [],
   "source": [
    "# Create dataframe from values\n",
    "fit_data = pd.DataFrame([list(depth), train_mae, test_mae]).transpose()\n",
    "fit_data.columns = ['depth','train_mae','test_mae']\n",
    "fit_data"
   ]
  },
  {
   "cell_type": "code",
   "execution_count": null,
   "id": "263d48c3-d9d2-435e-aec3-69bcb85645a5",
   "metadata": {},
   "outputs": [],
   "source": [
    "min(fit_data['test_mae'])"
   ]
  },
  {
   "cell_type": "code",
   "execution_count": null,
   "id": "e8c3fd7c-9ce9-4ff0-8153-65e236133683",
   "metadata": {},
   "outputs": [],
   "source": [
    "# Visualise the train/test evaluation metric MAE for overfitting\n",
    "fig = plt.figure(figsize=(8,6))\n",
    "sns.lineplot(y=train_mae, x=depth);\n",
    "sns.lineplot(x=depth, y=test_mae);\n",
    "plt.xticks(range(0,48,2))\n",
    "\n",
    "plt.show()"
   ]
  },
  {
   "cell_type": "code",
   "execution_count": null,
   "id": "bb385eae-53ad-46c3-856d-3ed157d7226a",
   "metadata": {},
   "outputs": [],
   "source": [
    "forest = pipeline(RandomForestRegressor(max_depth=18))\n",
    "forest.fit(SX_train, Sy_train)"
   ]
  },
  {
   "cell_type": "code",
   "execution_count": null,
   "id": "2a980513-9335-4c75-8d69-627b026d3f4f",
   "metadata": {},
   "outputs": [],
   "source": [
    "# Record new decision tree model in evaluation table\n",
    "y_pred, y_true = add_transformed_row(forest, SX_test, Sy_test, 'Random Forest Max Depth 18', table)\n",
    "table"
   ]
  },
  {
   "cell_type": "markdown",
   "id": "bdc284ee-4c72-4493-944b-8caaa8ee6fd2",
   "metadata": {},
   "source": [
    "# Grid Search"
   ]
  },
  {
   "cell_type": "code",
   "execution_count": null,
   "id": "66b3bb0d-effa-4307-8b6d-4d9b3dbb6dfa",
   "metadata": {},
   "outputs": [],
   "source": [
    "# Create new table for the best models to be found during grid search\n",
    "best = PrettyTable()\n",
    "best.field_names = ['Model', 'MAE', 'MAPE', 'RMSE', 'R2-Score']\n",
    "best.sortby = \"MAE\""
   ]
  },
  {
   "cell_type": "markdown",
   "id": "a26d84db-4375-4db6-8137-b4568eb22af8",
   "metadata": {},
   "source": [
    "## Ridge Regression"
   ]
  },
  {
   "cell_type": "code",
   "execution_count": null,
   "id": "1fba5123-bc8f-49ee-8a6c-316527bdbe5c",
   "metadata": {},
   "outputs": [],
   "source": [
    "grid_values = {'alpha':range(1,1000)}\n",
    "scorers = ['neg_mean_absolute_error','neg_mean_absolute_percentage_error',\n",
    "           'neg_root_mean_squared_error','r2']"
   ]
  },
  {
   "cell_type": "code",
   "execution_count": null,
   "id": "8809485c-0429-489c-98cb-1e8660f87b78",
   "metadata": {},
   "outputs": [],
   "source": [
    "ridge = pipeline(GridSearchCV(Ridge(), param_grid = grid_values, scoring=scorers, refit='neg_mean_absolute_error'))\n",
    "ridge"
   ]
  },
  {
   "cell_type": "code",
   "execution_count": null,
   "id": "04da060c-df0d-4d29-bc80-db6f54a3376c",
   "metadata": {},
   "outputs": [],
   "source": [
    "ridge.fit(SX_train, Sy_train)"
   ]
  },
  {
   "cell_type": "code",
   "execution_count": null,
   "id": "55c57ee2-948c-426b-bf6e-c69216af0bdf",
   "metadata": {},
   "outputs": [],
   "source": [
    "cols_grid = ['rank_test_neg_mean_absolute_error','param_alpha', 'mean_test_neg_mean_absolute_error',\n",
    "        'mean_test_neg_mean_absolute_percentage_error', 'mean_test_neg_root_mean_squared_error', 'mean_test_r2']\n",
    "\n",
    "results = pd.DataFrame(ridge[1].cv_results_)[cols_grid]\n",
    "results.sort_values(by='rank_test_neg_mean_absolute_error').head(5)"
   ]
  },
  {
   "cell_type": "code",
   "execution_count": null,
   "id": "f98583d5-6e99-47f2-9053-e1dab95afc8c",
   "metadata": {},
   "outputs": [],
   "source": [
    "params = ridge[1].best_params_\n",
    "ridge = pipeline(Ridge(alpha=params['alpha']))\n",
    "ridge.fit(X_train, y_train)"
   ]
  },
  {
   "cell_type": "code",
   "execution_count": null,
   "id": "a9c1055f-d6f2-4164-97dd-accbd17abd59",
   "metadata": {},
   "outputs": [],
   "source": [
    "y_pred, y_true = add_transformed_row(ridge, X_test, y_test, 'Ridge', best)\n",
    "best"
   ]
  },
  {
   "cell_type": "markdown",
   "id": "799c5928-0f77-4704-b424-1c2757cb92f3",
   "metadata": {},
   "source": [
    "## Decision Tree Grid Search"
   ]
  },
  {
   "cell_type": "code",
   "execution_count": null,
   "id": "1142a9d7-3da8-4f52-b816-bf5b6403429c",
   "metadata": {},
   "outputs": [],
   "source": [
    "grid_values = {'max_depth': range(10,110, 5), 'min_samples_leaf': range(4,11)}\n",
    "scorers = ['neg_mean_absolute_error','neg_mean_absolute_percentage_error',\n",
    "           'neg_root_mean_squared_error','r2']"
   ]
  },
  {
   "cell_type": "code",
   "execution_count": null,
   "id": "83e373e4-3958-4952-849c-ce7fc3d5e803",
   "metadata": {},
   "outputs": [],
   "source": [
    "dtree = pipeline(GridSearchCV(DecisionTreeRegressor(), param_grid = grid_values, scoring=scorers, refit='neg_mean_absolute_error'))\n",
    "dtree"
   ]
  },
  {
   "cell_type": "code",
   "execution_count": null,
   "id": "2977073d-d2d5-4499-8fd8-8eec719681c9",
   "metadata": {},
   "outputs": [],
   "source": [
    "dtree.fit(SX_train, Sy_train)"
   ]
  },
  {
   "cell_type": "code",
   "execution_count": null,
   "id": "184b19fe-b89f-4a7d-9c57-de821e12fa1e",
   "metadata": {},
   "outputs": [],
   "source": [
    "cols_grid = ['rank_test_neg_mean_absolute_error','param_max_depth','param_min_samples_leaf', 'mean_test_neg_mean_absolute_error',\n",
    "        'mean_test_neg_mean_absolute_percentage_error', 'mean_test_neg_root_mean_squared_error', 'mean_test_r2']\n",
    "\n",
    "results = pd.DataFrame(dtree[1].cv_results_)[cols_grid]\n",
    "results.sort_values(by='rank_test_neg_mean_absolute_error').head(5)"
   ]
  },
  {
   "cell_type": "code",
   "execution_count": null,
   "id": "f526dc9a-9564-4428-b3a3-c41365d33f46",
   "metadata": {},
   "outputs": [],
   "source": [
    "params=dtree[1].best_params_\n",
    "dtree = pipeline(DecisionTreeRegressor(max_depth=params['max_depth'], min_samples_leaf=params['min_samples_leaf']))\n",
    "dtree.fit(X_train, y_train)"
   ]
  },
  {
   "cell_type": "code",
   "execution_count": null,
   "id": "ab50e2d9-2c17-4495-a5de-fd6738474c30",
   "metadata": {},
   "outputs": [],
   "source": [
    "y_pred, y_true = add_transformed_row(dtree, X_test, y_test, 'Decision Tree GridSearch', best)\n",
    "best"
   ]
  },
  {
   "cell_type": "markdown",
   "id": "ca2ffd88-25c7-4059-857d-28fa668e6563",
   "metadata": {},
   "source": [
    "### Random Forest"
   ]
  },
  {
   "cell_type": "code",
   "execution_count": null,
   "id": "fd5194cb-2b4a-4430-9bf1-ec73cec3198d",
   "metadata": {},
   "outputs": [],
   "source": [
    "# Set parameter values for search\n",
    "grid_values = {'n_estimators':[10,50,100,200], 'max_depth':range(5,30,5), 'min_samples_leaf': range(3,9)}\n",
    "\n",
    "# Set evaluation metrics for results\n",
    "scorers = ['neg_mean_absolute_error','neg_mean_absolute_percentage_error',\n",
    "           'neg_root_mean_squared_error','r2']"
   ]
  },
  {
   "cell_type": "code",
   "execution_count": null,
   "id": "407cc65f-1763-4fc5-89f2-bf20e06ee997",
   "metadata": {},
   "outputs": [],
   "source": [
    "# Initiate pipeline for grid search\n",
    "forest = pipeline(GridSearchCV(RandomForestRegressor(), param_grid = grid_values, scoring=scorers, refit='neg_mean_absolute_error', n_jobs=4))\n",
    "forest"
   ]
  },
  {
   "cell_type": "code",
   "execution_count": null,
   "id": "f85887dd-5376-47c1-892d-187e52fe971b",
   "metadata": {},
   "outputs": [],
   "source": [
    "# Fit the sample data\n",
    "forest.fit(SX_train, Sy_train)"
   ]
  },
  {
   "cell_type": "code",
   "execution_count": null,
   "id": "8c7f7188-1b8e-4bf7-8f7b-4ee379d95827",
   "metadata": {},
   "outputs": [],
   "source": [
    "# Set columns for retrieval of results\n",
    "cols_grid = ['rank_test_neg_mean_absolute_error','param_max_depth','param_min_samples_leaf', 'param_n_estimators',\n",
    "             'mean_test_neg_mean_absolute_error','mean_test_neg_mean_absolute_percentage_error', \n",
    "             'mean_test_neg_root_mean_squared_error', 'mean_test_r2']\n",
    "\n",
    "# Print the resulting dataframe with best result first\n",
    "results = pd.DataFrame(forest[1].cv_results_)[cols_grid]\n",
    "results.sort_values(by='rank_test_neg_mean_absolute_error').head(5)"
   ]
  },
  {
   "cell_type": "code",
   "execution_count": null,
   "id": "5d6f1c22-957e-4414-8608-24026e6aa8b7",
   "metadata": {},
   "outputs": [],
   "source": [
    "# Apply best parameters to whole training data\n",
    "params = forest[1].best_params_\n",
    "forest = pipeline(RandomForestRegressor(max_depth=params['max_depth'], min_samples_leaf=params['min_samples_leaf'], n_estimators=params['n_estimators'], n_jobs=3))\n",
    "forest.fit(X_train, y_train)"
   ]
  },
  {
   "cell_type": "code",
   "execution_count": null,
   "id": "9ace2791-870a-4452-bfd0-5447ebd38a9e",
   "metadata": {},
   "outputs": [],
   "source": [
    "# Add evaluation metrics to table\n",
    "y_pred, y_true = add_transformed_row(forest, X_test, y_test, 'Random Forest GridSearch', best)\n",
    "best"
   ]
  },
  {
   "cell_type": "code",
   "execution_count": null,
   "id": "05774b2d-90eb-479d-b4c8-e0329060fbfc",
   "metadata": {},
   "outputs": [],
   "source": [
    "ax = sns.scatterplot(x=y_true, y=y_pred, alpha=0.5)\n",
    "ax.set_xlabel('Actual Target Value')\n",
    "ax.set_ylabel('Predicted Target Value')\n",
    "ax.set_xlim(0, 400000)\n",
    "ax.set_ylim(0, 400000)\n",
    "ax.plot((0, 1000000), (0, 1000000), ':k', alpha=1, lw=1);"
   ]
  },
  {
   "cell_type": "markdown",
   "id": "2423fad4-6013-437a-80f6-88f45764478d",
   "metadata": {},
   "source": [
    "## XGBoost Regressor"
   ]
  },
  {
   "cell_type": "code",
   "execution_count": null,
   "id": "1af165ef-cba8-4c44-9990-72500b4abfc2",
   "metadata": {},
   "outputs": [],
   "source": [
    "# Set grid values for search\n",
    "grid_values = {\n",
    "    'max_depth': range (4, 20, 2),\n",
    "    'n_estimators': range(60, 220, 40),\n",
    "    'learning_rate': [0.1, 0.01, 0.05]\n",
    "}\n",
    "scorers = ['neg_mean_absolute_error','neg_mean_absolute_percentage_error',\n",
    "           'neg_root_mean_squared_error','r2']"
   ]
  },
  {
   "cell_type": "code",
   "execution_count": null,
   "id": "336554dc-42f7-43cc-9e20-c771e6aa3617",
   "metadata": {},
   "outputs": [],
   "source": [
    "# Build pipeline for grid search of XGB regressor\n",
    "xgbR = pipeline(GridSearchCV(xgb.XGBRegressor(), param_grid = grid_values, scoring=scorers, refit='neg_mean_absolute_error', n_jobs=3))\n",
    "xgbR"
   ]
  },
  {
   "cell_type": "code",
   "execution_count": null,
   "id": "6885f39d-60b4-4fc0-bb87-62d461e1a938",
   "metadata": {},
   "outputs": [],
   "source": [
    "# Fit the grid search using sample data\n",
    "xgbR.fit(SX_train, Sy_train)"
   ]
  },
  {
   "cell_type": "code",
   "execution_count": null,
   "id": "104c20c7-75c5-4a7a-9ae8-088d6c638e32",
   "metadata": {},
   "outputs": [],
   "source": [
    "cols_grid = ['rank_test_neg_mean_absolute_error','param_max_depth','param_n_estimators', 'param_learning_rate', 'mean_test_neg_mean_absolute_error',\n",
    "             'mean_test_neg_mean_absolute_percentage_error', 'mean_test_neg_root_mean_squared_error', 'mean_test_r2']\n",
    "\n",
    "results = pd.DataFrame(xgbR[1].cv_results_)[cols_grid]\n",
    "results.sort_values(by='rank_test_neg_mean_absolute_error').head(5)"
   ]
  },
  {
   "cell_type": "code",
   "execution_count": null,
   "id": "fa374bc6-ab37-4bc8-8bb3-d390da425d4f",
   "metadata": {},
   "outputs": [],
   "source": [
    "params = xgbR[1].best_params_\n",
    "xgbR = pipeline(xgb.XGBRegressor(max_depth=params['max_depth'], n_estimators=params['n_estimators'], learning_rate=params['learning_rate']))\n",
    "xgbR.fit(X_train, y_train)"
   ]
  },
  {
   "cell_type": "code",
   "execution_count": null,
   "id": "51651ee8-ec23-4125-9a77-76aa02039937",
   "metadata": {},
   "outputs": [],
   "source": [
    "add_transformed_row(xgbR, X_test, y_test, 'XGBoost Grid Best', best)\n",
    "best"
   ]
  },
  {
   "cell_type": "markdown",
   "id": "bbe08525-c406-436e-aafc-8498a51772ed",
   "metadata": {},
   "source": [
    "## Light GBM Regressor"
   ]
  },
  {
   "cell_type": "code",
   "execution_count": null,
   "id": "7206646d-9dfe-4253-9930-c7dca2edf984",
   "metadata": {},
   "outputs": [],
   "source": [
    "# Set values of parameters\n",
    "grid_values = {\n",
    "    'max_depth': range (-1, 30, 5),\n",
    "    'num_leaves': range(21, 41, 5),\n",
    "    'learning_rate': [0.1, 0.01],\n",
    "    'n_estimators': [50, 100, 200],\n",
    "}\n",
    "\n",
    "# Define evaluation metrics\n",
    "scorers = ['neg_mean_absolute_error','neg_mean_absolute_percentage_error',\n",
    "           'neg_root_mean_squared_error','r2']"
   ]
  },
  {
   "cell_type": "code",
   "execution_count": null,
   "id": "836db482-148e-4625-b547-e8e0cc4c9b45",
   "metadata": {},
   "outputs": [],
   "source": [
    "lgbR = pipeline(GridSearchCV(lgb.LGBMRegressor(), param_grid = grid_values, scoring=scorers, refit='neg_mean_absolute_error', n_jobs=3))\n",
    "lgbR"
   ]
  },
  {
   "cell_type": "code",
   "execution_count": null,
   "id": "f20b25f5-8144-42f4-9f1c-e9dbcaa5350b",
   "metadata": {},
   "outputs": [],
   "source": [
    "lgbR.fit(SX_train, Sy_train)"
   ]
  },
  {
   "cell_type": "code",
   "execution_count": null,
   "id": "c306e111-2f52-45f6-9c55-b318fc182a83",
   "metadata": {},
   "outputs": [],
   "source": [
    "cols_grid = ['rank_test_neg_mean_absolute_error','param_max_depth','param_n_estimators', 'param_learning_rate', 'param_num_leaves',\n",
    "             'mean_test_neg_mean_absolute_error', 'mean_test_neg_mean_absolute_percentage_error', \n",
    "             'mean_test_neg_root_mean_squared_error', 'mean_test_r2']\n",
    "\n",
    "results = pd.DataFrame(lgbR[1].cv_results_)[cols_grid]\n",
    "results.sort_values(by='rank_test_neg_mean_absolute_error').head(5)"
   ]
  },
  {
   "cell_type": "code",
   "execution_count": null,
   "id": "e950158b-d98a-4656-8929-278f64c423d5",
   "metadata": {},
   "outputs": [],
   "source": [
    "params = lgbR[1].best_params_\n",
    "lgbR = pipeline(lgb.LGBMRegressor(max_depth=params['max_depth'], n_estimators=params['n_estimators'], learning_rate = params['learning_rate'], n_jobs=3))\n",
    "lgbR.fit(X_train, y_train)"
   ]
  },
  {
   "cell_type": "code",
   "execution_count": null,
   "id": "d90ee166-a8c2-4a2b-acfb-15791d1c9ebe",
   "metadata": {},
   "outputs": [],
   "source": [
    "add_transformed_row(lgbR, X_test, y_test, 'LGBM Regressor', best)\n",
    "best"
   ]
  },
  {
   "cell_type": "markdown",
   "id": "0ae1217c-4e42-4a77-a0b4-8f94f0f56e6a",
   "metadata": {},
   "source": [
    "# Model Evaluation and Analysis\n",
    "\n",
    "We have found throughout the grid search that XGBoost performs best on the sample train/test divide, however we now need to confirm the findings by performing cross-validation on the entire dataset."
   ]
  },
  {
   "cell_type": "markdown",
   "id": "44cc27d3-0778-444c-8422-09afabbac83c",
   "metadata": {},
   "source": [
    "## Final Evaluation Metrics for Grid Search"
   ]
  },
  {
   "cell_type": "code",
   "execution_count": null,
   "id": "7f15d3be-0e52-4b15-a025-4aae465dfbb3",
   "metadata": {},
   "outputs": [],
   "source": [
    "# Get final evaluation metrics from grid search\n",
    "best"
   ]
  },
  {
   "cell_type": "markdown",
   "id": "53fb38eb-e0b7-44ba-a291-16356b7d2696",
   "metadata": {},
   "source": [
    "## Cross-Validation\n",
    "\n",
    "Perform cross-validation on the selected models.\n",
    "\n",
    "(Apologies if there is warnings)"
   ]
  },
  {
   "cell_type": "code",
   "execution_count": null,
   "id": "ccb5c2a9-67a4-4426-a51b-5576ee60550d",
   "metadata": {},
   "outputs": [],
   "source": [
    "valid = PrettyTable()\n",
    "valid.field_names = ['Model','Validation Mean Test MAE']\n",
    "valid.sortby = 'Validation Mean Test MAE'"
   ]
  },
  {
   "cell_type": "code",
   "execution_count": null,
   "id": "5c3c4456-87f8-4e5a-ac48-fee98bc03b14",
   "metadata": {},
   "outputs": [],
   "source": [
    "validate = cross_validate(dtree, X, y, scoring='neg_mean_absolute_error', n_jobs=2)\n",
    "valid.add_row(['Decision Tree', np.abs(validate['test_score'].mean())])"
   ]
  },
  {
   "cell_type": "code",
   "execution_count": null,
   "id": "108a2cf6-6510-48bd-8797-c15bb46431b0",
   "metadata": {},
   "outputs": [],
   "source": [
    "validate = cross_validate(forest, X, y, scoring='neg_mean_absolute_error', n_jobs=2)\n",
    "valid.add_row(['Random Forest', np.abs(validate['test_score'].mean())])"
   ]
  },
  {
   "cell_type": "code",
   "execution_count": null,
   "id": "e4879551-a4c5-4877-b33e-1582ee43a6fd",
   "metadata": {},
   "outputs": [],
   "source": [
    "validate = cross_validate(xgbR, X, y, scoring='neg_mean_absolute_error', n_jobs=2)\n",
    "valid.add_row(['XGBoost', np.abs(validate['test_score'].mean())])"
   ]
  },
  {
   "cell_type": "code",
   "execution_count": null,
   "id": "0c81cd64-e1b3-48da-93cf-404b9c9a6bb9",
   "metadata": {},
   "outputs": [],
   "source": [
    "validate = cross_validate(lgbR, X, y, scoring='neg_mean_absolute_error', n_jobs=2)\n",
    "valid.add_row(['Light GBM', np.abs(validate['test_score'].mean())])"
   ]
  },
  {
   "cell_type": "code",
   "execution_count": null,
   "id": "6b355ddc-6279-4f7a-a7bc-7efa371338f6",
   "metadata": {},
   "outputs": [],
   "source": [
    "valid"
   ]
  },
  {
   "cell_type": "markdown",
   "id": "c55ffd4d-f812-4dc0-a724-7ba36a8f3ecf",
   "metadata": {},
   "source": [
    "### Cross-Validate Predict"
   ]
  },
  {
   "cell_type": "code",
   "execution_count": null,
   "id": "2a5c44fd-404f-4575-85f9-4784a9e1a6e1",
   "metadata": {},
   "outputs": [],
   "source": [
    "from sklearn.model_selection import cross_val_predict"
   ]
  },
  {
   "cell_type": "code",
   "execution_count": null,
   "id": "1d2253ba-11c9-47e2-94e2-8a9c822623a2",
   "metadata": {},
   "outputs": [],
   "source": [
    "# Get predictions for full dataset\n",
    "valid_pred = cross_val_predict(xgbR, X, y, n_jobs=-1)\n",
    "valid_pred"
   ]
  },
  {
   "cell_type": "code",
   "execution_count": null,
   "id": "c54fdf3c-15e8-4f8a-a4f1-7e16e67d6ae0",
   "metadata": {},
   "outputs": [],
   "source": [
    "# Print evaluation metrics\n",
    "y_pred, y_true = 10**valid_pred, 10**y\n",
    "print('The cross-validation evaluation metrics for XGBoost')\n",
    "print('MAE: ',mean_absolute_error(y_pred, y_true))\n",
    "print('MAPE: ', mean_absolute_percentage_error(y_pred, y_true))\n",
    "print('RMSE: ', mean_squared_error(y_pred, y_true, squared=False))\n",
    "print('R2: ', r2_score(y_pred, y_true))"
   ]
  },
  {
   "cell_type": "markdown",
   "id": "2d6fb79d-dc1d-43e1-8c7e-0c4d2d6674fe",
   "metadata": {},
   "source": [
    "## Feature Importance\n",
    "\n",
    "Explainability is an important aspect in business when using machine learning models. A lot of the time it can be difficult to explain complex models in advanced machine learning techniques. Most ML models have built in ways to retrieve the importance of the features on predicting the target variable."
   ]
  },
  {
   "cell_type": "markdown",
   "id": "de307287-b0d2-4f1a-8261-28016cf7cb9b",
   "metadata": {},
   "source": [
    "### Naming Features"
   ]
  },
  {
   "cell_type": "code",
   "execution_count": null,
   "id": "d3fbb790-a715-4419-bcd3-f7d43f69f2d3",
   "metadata": {},
   "outputs": [],
   "source": [
    "# Fit the training data\n",
    "onehot_transformer.fit(X_train[onehot_features])\n",
    "target_transformer.fit(X_train[target_features], y_train)\n",
    "num_transformer.fit(X_train[num_features])"
   ]
  },
  {
   "cell_type": "code",
   "execution_count": null,
   "id": "fb9d3d39-dbcb-4e69-9073-dc9d2694a78c",
   "metadata": {},
   "outputs": [],
   "source": [
    "# Get feature names of numeric transformer\n",
    "num_feat = list(reg['preprocessor'].transformers[0][1].get_feature_names_out(num_features))\n",
    "\n",
    "# Get feature names of one hot transformer\n",
    "one_hot_feat = list(reg['preprocessor'].transformers[1][1].get_feature_names_out(onehot_features))\n",
    "\n",
    "# Build full feature names to replace columns\n",
    "encoded_features = num_feat + one_hot_feat + target_features + ['new', 'car_van']"
   ]
  },
  {
   "cell_type": "markdown",
   "id": "74f8e669-e77a-4e70-bdcf-020cb783e6dd",
   "metadata": {},
   "source": [
    "### XGBoost"
   ]
  },
  {
   "cell_type": "code",
   "execution_count": null,
   "id": "82154a76-c7ca-466b-8e09-d7f18c18e8e6",
   "metadata": {},
   "outputs": [],
   "source": [
    "# See how model ranks the features.\n",
    "feat_imp = pd.DataFrame(xgbR[1].feature_importances_)\n",
    "feat_imp['name'] = encoded_features\n",
    "feat_imp = feat_imp.sort_values(by=0, ascending=False)\n",
    "\n",
    "feat_imp"
   ]
  },
  {
   "cell_type": "code",
   "execution_count": null,
   "id": "49effdef-de5d-4be6-ae70-5263f92ea2fa",
   "metadata": {},
   "outputs": [],
   "source": [
    "len(feat_imp)"
   ]
  },
  {
   "cell_type": "code",
   "execution_count": null,
   "id": "2cebab29-1e44-411c-a03c-b139f8950556",
   "metadata": {},
   "outputs": [],
   "source": [
    "# Build figure\n",
    "fig = plt.figure(figsize=(10,8))\n",
    "\n",
    "# Plot feature importance coefficients\n",
    "sns.barplot(x=0, y='name', data=feat_imp);\n",
    "plt.xlabel('Feature Importance')\n",
    "plt.ylabel('Feature')\n",
    "\n",
    "plt.savefig('figure/figure7.png')\n",
    "\n",
    "plt.show()"
   ]
  },
  {
   "cell_type": "markdown",
   "id": "7c94c15f-cca4-42d7-835f-207d161318fa",
   "metadata": {},
   "source": [
    "### Random Forest"
   ]
  },
  {
   "cell_type": "code",
   "execution_count": null,
   "id": "8402aed9-5637-4984-8ea4-322a15ea701d",
   "metadata": {},
   "outputs": [],
   "source": [
    "forest = pipeline(RandomForestRegressor(max_depth=20, min_samples_leaf=3, n_estimators=200, n_jobs=-1))"
   ]
  },
  {
   "cell_type": "code",
   "execution_count": null,
   "id": "44b80c51-189c-41e0-b585-5d3af8a9d134",
   "metadata": {},
   "outputs": [],
   "source": [
    "forest.fit(X_train, y_train)"
   ]
  },
  {
   "cell_type": "code",
   "execution_count": null,
   "id": "b11cde9f-ecfa-49e6-9e5e-6fb80f0710bd",
   "metadata": {},
   "outputs": [],
   "source": [
    "# See how model ranks the features.\n",
    "feat_imp = pd.DataFrame(forest[1].feature_importances_)\n",
    "feat_imp['name'] = encoded_features\n",
    "feat_imp = feat_imp.sort_values(by=0, ascending=False)\n",
    "\n",
    "feat_imp"
   ]
  },
  {
   "cell_type": "code",
   "execution_count": null,
   "id": "1f7e6de6-a46e-4dbf-ab01-d7e6404643f8",
   "metadata": {},
   "outputs": [],
   "source": [
    "# Build figure\n",
    "fig = plt.figure(figsize=(10,8))\n",
    "\n",
    "# Plot feature importance coefficients\n",
    "sns.barplot(x=0, y='name', data=feat_imp);\n",
    "plt.xlabel('Feature Importance')\n",
    "plt.ylabel('Feature')\n",
    "\n",
    "plt.show()"
   ]
  },
  {
   "cell_type": "markdown",
   "id": "c55148e8-c5a8-4065-bcff-792585c01675",
   "metadata": {},
   "source": [
    "### Ridge"
   ]
  },
  {
   "cell_type": "code",
   "execution_count": null,
   "id": "568ead3c-6f9a-4d3a-ade1-1a08067449c6",
   "metadata": {},
   "outputs": [],
   "source": [
    "# See how model ranks the features.\n",
    "feat_imp = pd.DataFrame(ridge[1].coef_)\n",
    "feat_imp['name'] = encoded_features\n",
    "feat_imp = feat_imp.sort_values(by=0, ascending=False)\n",
    "feat_imp['abs'] = np.abs(feat_imp[0])\n",
    "feat_imp"
   ]
  },
  {
   "cell_type": "code",
   "execution_count": null,
   "id": "536732ec-a65b-4ca2-b39c-181ec2ca2e78",
   "metadata": {},
   "outputs": [],
   "source": [
    "# Build figure\n",
    "fig, axs = plt.subplots(2, 1, figsize=(10,18))\n",
    "\n",
    "# Plot feature importance coefficients\n",
    "sns.barplot(x=0, y='name', data=feat_imp, ax=axs[0]);\n",
    "axs[0].set_xlabel('Feature Importance Coefficient')\n",
    "axs[0].set_ylabel('Feature')\n",
    "\n",
    "feat_imp = feat_imp.sort_values(by='abs', ascending=False)\n",
    "\n",
    "sns.barplot(x='abs', y='name', data=feat_imp, ax=axs[1]);\n",
    "axs[1].set_xlabel('Absolute Feature Importance Coefficient')\n",
    "axs[1].set_ylabel('Feature')\n",
    "\n",
    "plt.show()"
   ]
  },
  {
   "cell_type": "markdown",
   "id": "65404c52-aeb9-4175-8c92-8fc458d78d35",
   "metadata": {
    "tags": []
   },
   "source": [
    "## SHAP\n",
    "Another interesting way to visualise what our algorithm is predicting is using the SHAP library. Let's look at the best model XGBoost and how it comes to it's final predictions using SHAP."
   ]
  },
  {
   "cell_type": "code",
   "execution_count": null,
   "id": "e37fb974-76a5-4189-b0ca-0abd3bb0ee1e",
   "metadata": {},
   "outputs": [],
   "source": [
    "# Assign XGBoost to model variable and create dataframe of 1000 samples\n",
    "model = xgbR[1]\n",
    "X = pd.DataFrame(xgbR[0].transform(X_test[0:1000]).todense())\n",
    "\n",
    "# Define column names\n",
    "X.columns = encoded_features"
   ]
  },
  {
   "cell_type": "code",
   "execution_count": null,
   "id": "fc2bd4ba-1db8-4da4-ab3a-6566dd236ce0",
   "metadata": {},
   "outputs": [],
   "source": [
    "# Build SHAP explainer using model\n",
    "explainer = shap.TreeExplainer(model)"
   ]
  },
  {
   "cell_type": "code",
   "execution_count": null,
   "id": "805bdd7a-80e1-4f53-b7fd-19119ca104fa",
   "metadata": {},
   "outputs": [],
   "source": [
    "X.head()"
   ]
  },
  {
   "cell_type": "code",
   "execution_count": null,
   "id": "0aef7929-fcda-4923-b03a-815b0a03eaf2",
   "metadata": {},
   "outputs": [],
   "source": [
    "# Get SHAP values for tree explainer\n",
    "shap_values = explainer.shap_values(X);"
   ]
  },
  {
   "cell_type": "code",
   "execution_count": null,
   "id": "00fe714c-60d1-43f3-8232-27b766f673ae",
   "metadata": {},
   "outputs": [],
   "source": [
    "# Visualise SHAP summary plot\n",
    "shap.initjs()\n",
    "shap.summary_plot(shap_values, X, show=False);"
   ]
  },
  {
   "cell_type": "code",
   "execution_count": null,
   "id": "29a86681-8656-406e-ae8b-ed668ef937c0",
   "metadata": {},
   "outputs": [],
   "source": [
    "row_idx = 0\n",
    "\n",
    "shap.initjs()\n",
    "\n",
    "shap.force_plot(\n",
    "    explainer.expected_value,\n",
    "    shap_values[row_idx],\n",
    "    X.iloc[row_idx],\n",
    ")"
   ]
  },
  {
   "cell_type": "markdown",
   "id": "9f1ae2f6-94c8-43d6-915c-1ca5b4eedf7c",
   "metadata": {},
   "source": [
    "## Instance Level Errors\n",
    "Where is the algorithm going wrong? Can it be improved by noticing which specific vehicles or categories of vehicles with the highest errors?"
   ]
  },
  {
   "cell_type": "code",
   "execution_count": null,
   "id": "05e89156-ecff-41cd-a13c-347e816ba4cd",
   "metadata": {},
   "outputs": [],
   "source": [
    "# Transform back from log base 10\n",
    "y_pred, y_true = 10**xgbR.predict(X_test), 10**y_test"
   ]
  },
  {
   "cell_type": "code",
   "execution_count": null,
   "id": "b44762ae-cd1c-4fe3-a0fa-147cf4efe8d1",
   "metadata": {},
   "outputs": [],
   "source": [
    "# Initiate figure\n",
    "plt.figure(figsize=(12,8))\n",
    "\n",
    "\n",
    "# Plot true vs predicted values\n",
    "ax = sns.scatterplot(x=y_true, y=y_pred, alpha=0.5)\n",
    "ax.set_xlabel('Actual Target Value')\n",
    "ax.set_ylabel('Predicted Target Value')\n",
    "ax.set_xlim(0, 400000)\n",
    "ax.set_ylim(0, 400000)\n",
    "ax.plot((0, 400000), (0, 400000), ':k', alpha=1, lw=1);\n",
    "\n",
    "plt.savefig('figure/figure10.png')"
   ]
  },
  {
   "cell_type": "code",
   "execution_count": null,
   "id": "de2e587d-5eb6-43f2-8bb8-1c46fb9aec38",
   "metadata": {},
   "outputs": [],
   "source": [
    "preds = pd.DataFrame([y_pred, y_true]).transpose()\n",
    "preds.head()"
   ]
  },
  {
   "cell_type": "code",
   "execution_count": null,
   "id": "3f91b7c4-8feb-4e03-bda7-84567266690a",
   "metadata": {},
   "outputs": [],
   "source": [
    "preds['diff'] = np.abs(preds[0] - preds[1])"
   ]
  },
  {
   "cell_type": "code",
   "execution_count": null,
   "id": "80c0e2dc-1a92-427e-b90b-4be74bad7590",
   "metadata": {},
   "outputs": [],
   "source": [
    "preds.head()"
   ]
  },
  {
   "cell_type": "code",
   "execution_count": null,
   "id": "df227e3e-d564-4cc2-b57b-1c619b764bad",
   "metadata": {},
   "outputs": [],
   "source": [
    "test_data = X_test.copy()"
   ]
  },
  {
   "cell_type": "code",
   "execution_count": null,
   "id": "fe123adc-b9da-4222-9ee3-aa74c2991fb4",
   "metadata": {},
   "outputs": [],
   "source": [
    "# Add residuals back to original test dataframe\n",
    "test_data['price'], test_data['pred'] = y_true, y_pred\n",
    "test_data['diff'] = test_data['price'] - test_data['pred']\n",
    "test_data['diff_abs'] = np.abs(test_data['diff'])\n",
    "test_data"
   ]
  },
  {
   "cell_type": "code",
   "execution_count": null,
   "id": "52a3733a-c0e5-4d37-88a1-bcc2e5617338",
   "metadata": {},
   "outputs": [],
   "source": [
    "# Initiate figure\n",
    "plt.figure(figsize=(12,8))\n",
    "\n",
    "# Plot true vs predicted values\n",
    "ax = sns.scatterplot(x='price', y='pred', data=test_data.loc[test_data['diff_abs'] < 50000], alpha=0.2);\n",
    "ax = sns.scatterplot(x='price', y='pred', data=test_data.loc[test_data['diff_abs'] >= 50000], marker='o');\n",
    "ax.set_xlabel('Actual Target Value')\n",
    "ax.set_ylabel('Predicted Target Value')\n",
    "ax.set_xlim(0, 400000)\n",
    "ax.set_ylim(0, 400000)\n",
    "ax.plot((0, 400000), (0, 400000), ':k', alpha=1, lw=1);\n",
    "\n",
    "plt.savefig('figure/figure10.png')"
   ]
  },
  {
   "cell_type": "code",
   "execution_count": null,
   "id": "df25e450-98ff-4bb2-9796-c939e8629c68",
   "metadata": {},
   "outputs": [],
   "source": [
    "sns.scatterplot(x='price', y='diff_abs', data=test_data, alpha=0.3);"
   ]
  },
  {
   "cell_type": "code",
   "execution_count": null,
   "id": "d39ef093-1b04-4157-84ef-eb18a695ed4b",
   "metadata": {},
   "outputs": [],
   "source": [
    "# Create dataframe of errors > 50,000\n",
    "big_diff = test_data.loc[test_data['diff_abs'] > 50000]\n",
    "big_diff.head(10)"
   ]
  },
  {
   "cell_type": "code",
   "execution_count": null,
   "id": "89fb4242-fe3b-4ffe-8040-3606e633ace3",
   "metadata": {},
   "outputs": [],
   "source": [
    "# Create countplot of makes with large number of errors > 50,000\n",
    "big_diff['make'].value_counts().sort_values(ascending=False).plot(kind='barh');\n",
    "\n",
    "plt.savefig('figure/figure11.png')"
   ]
  },
  {
   "cell_type": "code",
   "execution_count": null,
   "id": "f4237fdf-694d-47ec-8e7b-f72bee9d6296",
   "metadata": {},
   "outputs": [],
   "source": [
    "big_diff.loc[big_diff['price'] < 50000].head(10)"
   ]
  },
  {
   "cell_type": "code",
   "execution_count": null,
   "id": "0ecb6f16-b475-4990-b898-9f887fa2b5e0",
   "metadata": {},
   "outputs": [],
   "source": [
    "ferrari = test_data.loc[test_data['make'] == 'Ferrari']\n",
    "ferrari.head()"
   ]
  },
  {
   "cell_type": "code",
   "execution_count": null,
   "id": "362b7c71-58c2-41fb-a4e2-eed66d599881",
   "metadata": {},
   "outputs": [],
   "source": [
    "# Create dataframe of ferrari's from training data\n",
    "ferrari_train = X_train.loc[X_train['make'] == 'Ferrari']\n",
    "ferrari_train['price_'] = 10**y_train\n",
    "ferrari_train.head()"
   ]
  },
  {
   "cell_type": "code",
   "execution_count": null,
   "id": "1c04ae3d-c426-49d5-9bc3-42a87503ed23",
   "metadata": {},
   "outputs": [],
   "source": [
    "# View size, mean and standard deviation of most variant ferrari's\n",
    "ferrari_train.groupby('model')[['age','price_']].agg(['size','mean','std']).sort_values(by=('price_','std'), ascending=False).head()"
   ]
  },
  {
   "cell_type": "code",
   "execution_count": null,
   "id": "96536a59-d58b-4455-8593-9dbb82a28cc4",
   "metadata": {},
   "outputs": [],
   "source": [
    "# View size, mean and standard deviation of most variant ferrari's\n",
    "ferrari_box = ferrari_train.groupby('model')[['age','price_']].agg(['size','mean','std']).sort_values(by=('price_','size'), ascending=False).head()"
   ]
  },
  {
   "cell_type": "code",
   "execution_count": null,
   "id": "716c2b6d-9f52-4eee-b23d-86a656a5e10f",
   "metadata": {},
   "outputs": [],
   "source": [
    "# Box-plot of most commonly occuring Ferrari's in training data\n",
    "sns.boxplot(x='price_', y='model', data=ferrari_train.loc[ferrari_train['model'].isin(ferrari_box.index)]);\n",
    "\n",
    "plt.savefig('figure/figure12.png')"
   ]
  },
  {
   "cell_type": "code",
   "execution_count": null,
   "id": "4c43d5bd-4685-4da4-b889-fa44ba3d70d8",
   "metadata": {},
   "outputs": [],
   "source": [
    "porsche = test_data.loc[test_data['make'] == 'Porsche']\n",
    "porsche.head()"
   ]
  },
  {
   "cell_type": "code",
   "execution_count": null,
   "id": "afd46c63-eabc-4190-9ed6-0c2365b46e1a",
   "metadata": {},
   "outputs": [],
   "source": [
    "porsche.groupby('model')[['age','price', 'diff']].agg(['mean','std'])"
   ]
  },
  {
   "cell_type": "markdown",
   "id": "9859ec64-9a80-45e3-9387-bef98401e12c",
   "metadata": {},
   "source": [
    "**Porsche Problems**\n",
    "\n",
    "It appears that the large range in price of Porsche is causing issues in the models being built. With large importance being placed on the models feature,  Porsche models have a large variance in age and price. Where other vehicle makers might change the names of models, Porsche may keep the same model names for longer periods, causing this variance in age and/or price."
   ]
  },
  {
   "cell_type": "code",
   "execution_count": null,
   "id": "1505837b-9f4d-4041-b6b9-2fc870122192",
   "metadata": {},
   "outputs": [],
   "source": [
    "sns.scatterplot(x='age', y='price', data=porsche);"
   ]
  },
  {
   "cell_type": "code",
   "execution_count": null,
   "id": "d6af3835-c6c6-403d-8ccd-6f4ce21cf48b",
   "metadata": {},
   "outputs": [],
   "source": [
    "sns.boxplot(x='diff', data=porsche);"
   ]
  },
  {
   "cell_type": "code",
   "execution_count": null,
   "id": "5e301736-7e0b-4a06-a05d-691061a297cf",
   "metadata": {},
   "outputs": [],
   "source": []
  },
  {
   "cell_type": "code",
   "execution_count": null,
   "id": "c6dd179e-29c3-4e86-9ca7-a7193f3dd44b",
   "metadata": {},
   "outputs": [],
   "source": []
  }
 ],
 "metadata": {
  "kernelspec": {
   "display_name": "Python 3 (ipykernel)",
   "language": "python",
   "name": "python3"
  },
  "language_info": {
   "codemirror_mode": {
    "name": "ipython",
    "version": 3
   },
   "file_extension": ".py",
   "mimetype": "text/x-python",
   "name": "python",
   "nbconvert_exporter": "python",
   "pygments_lexer": "ipython3",
   "version": "3.10.9"
  },
  "toc-autonumbering": true,
  "toc-showcode": false,
  "toc-showmarkdowntxt": false,
  "toc-showtags": false
 },
 "nbformat": 4,
 "nbformat_minor": 5
}
